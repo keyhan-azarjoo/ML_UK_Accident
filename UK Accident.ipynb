{
 "cells": [
  {
   "cell_type": "markdown",
   "id": "c53be361-40a8-40aa-9e25-157b55b40993",
   "metadata": {},
   "source": [
    "## Accident in UK"
   ]
  },
  {
   "cell_type": "code",
   "execution_count": 2,
   "id": "27c9449b-9377-4368-a3e6-7a5767b4f8f4",
   "metadata": {},
   "outputs": [],
   "source": [
    "import pandas as pd\n",
    "import numpy as np\n",
    "import matplotlib.pyplot as plt\n",
    "import seaborn as sb\n",
    "from sklearn.linear_model import Ridge\n",
    "from sklearn.model_selection import cross_val_score\n",
    "import sklearn.metrics as metrics\n",
    "from sklearn.model_selection import train_test_split\n",
    "from sklearn.linear_model import LinearRegression\n",
    "from sklearn.preprocessing import scale, normalize, minmax_scale\n",
    "from scipy.stats import pearsonr"
   ]
  },
  {
   "cell_type": "code",
   "execution_count": 55,
   "id": "27d81df2-4196-4791-91fe-3fe63ccff431",
   "metadata": {},
   "outputs": [],
   "source": []
  },
  {
   "cell_type": "code",
   "execution_count": 3,
   "id": "80aea7d3-250d-470e-88a0-95e863bf06e4",
   "metadata": {},
   "outputs": [],
   "source": [
    "accidents_df = pd.read_csv(r'C:\\Users\\B1674080\\OneDrive - Teesside University\\AI ethics and apps\\AS 2\\SC\\Accident 3.csv')"
   ]
  },
  {
   "cell_type": "code",
   "execution_count": 4,
   "id": "bc2990af-2210-4556-a724-19158e2a778b",
   "metadata": {},
   "outputs": [
    {
     "data": {
      "text/html": [
       "<div>\n",
       "<style scoped>\n",
       "    .dataframe tbody tr th:only-of-type {\n",
       "        vertical-align: middle;\n",
       "    }\n",
       "\n",
       "    .dataframe tbody tr th {\n",
       "        vertical-align: top;\n",
       "    }\n",
       "\n",
       "    .dataframe thead th {\n",
       "        text-align: right;\n",
       "    }\n",
       "</style>\n",
       "<table border=\"1\" class=\"dataframe\">\n",
       "  <thead>\n",
       "    <tr style=\"text-align: right;\">\n",
       "      <th></th>\n",
       "      <th>Accident year</th>\n",
       "      <th>Accident severity</th>\n",
       "      <th>Speed limit</th>\n",
       "      <th>Light condition</th>\n",
       "      <th>Weather condition</th>\n",
       "      <th>Carriageway hazards</th>\n",
       "      <th>Accidents</th>\n",
       "      <th>Adjusted serious</th>\n",
       "      <th>Adjusted slight</th>\n",
       "    </tr>\n",
       "  </thead>\n",
       "  <tbody>\n",
       "    <tr>\n",
       "      <th>0</th>\n",
       "      <td>2005</td>\n",
       "      <td>Fatal</td>\n",
       "      <td>1-20 mph</td>\n",
       "      <td>Daylight</td>\n",
       "      <td>Fine no high winds</td>\n",
       "      <td>None</td>\n",
       "      <td>5</td>\n",
       "      <td>NaN</td>\n",
       "      <td>NaN</td>\n",
       "    </tr>\n",
       "    <tr>\n",
       "      <th>1</th>\n",
       "      <td>2005</td>\n",
       "      <td>Fatal</td>\n",
       "      <td>1-20 mph</td>\n",
       "      <td>Daylight</td>\n",
       "      <td>Other</td>\n",
       "      <td>None</td>\n",
       "      <td>1</td>\n",
       "      <td>NaN</td>\n",
       "      <td>NaN</td>\n",
       "    </tr>\n",
       "    <tr>\n",
       "      <th>2</th>\n",
       "      <td>2005</td>\n",
       "      <td>Fatal</td>\n",
       "      <td>1-20 mph</td>\n",
       "      <td>Darkness - lights lit</td>\n",
       "      <td>Fine no high winds</td>\n",
       "      <td>None</td>\n",
       "      <td>2</td>\n",
       "      <td>NaN</td>\n",
       "      <td>NaN</td>\n",
       "    </tr>\n",
       "    <tr>\n",
       "      <th>3</th>\n",
       "      <td>2005</td>\n",
       "      <td>Fatal</td>\n",
       "      <td>21-30 mph</td>\n",
       "      <td>Daylight</td>\n",
       "      <td>Unknown</td>\n",
       "      <td>None</td>\n",
       "      <td>8</td>\n",
       "      <td>NaN</td>\n",
       "      <td>NaN</td>\n",
       "    </tr>\n",
       "    <tr>\n",
       "      <th>4</th>\n",
       "      <td>2005</td>\n",
       "      <td>Fatal</td>\n",
       "      <td>21-30 mph</td>\n",
       "      <td>Daylight</td>\n",
       "      <td>Fine no high winds</td>\n",
       "      <td>None</td>\n",
       "      <td>473</td>\n",
       "      <td>NaN</td>\n",
       "      <td>NaN</td>\n",
       "    </tr>\n",
       "  </tbody>\n",
       "</table>\n",
       "</div>"
      ],
      "text/plain": [
       "   Accident year Accident severity Speed limit        Light condition  \\\n",
       "0           2005             Fatal    1-20 mph               Daylight   \n",
       "1           2005             Fatal    1-20 mph               Daylight   \n",
       "2           2005             Fatal    1-20 mph  Darkness - lights lit   \n",
       "3           2005             Fatal   21-30 mph               Daylight   \n",
       "4           2005             Fatal   21-30 mph               Daylight   \n",
       "\n",
       "    Weather condition Carriageway hazards  Accidents  Adjusted serious  \\\n",
       "0  Fine no high winds                None          5               NaN   \n",
       "1               Other                None          1               NaN   \n",
       "2  Fine no high winds                None          2               NaN   \n",
       "3             Unknown                None          8               NaN   \n",
       "4  Fine no high winds                None        473               NaN   \n",
       "\n",
       "   Adjusted slight  \n",
       "0              NaN  \n",
       "1              NaN  \n",
       "2              NaN  \n",
       "3              NaN  \n",
       "4              NaN  "
      ]
     },
     "execution_count": 4,
     "metadata": {},
     "output_type": "execute_result"
    }
   ],
   "source": [
    "accidents_df.head()"
   ]
  },
  {
   "cell_type": "code",
   "execution_count": 5,
   "id": "b0bb2947-3318-4501-9d5f-ae67e1cb25d5",
   "metadata": {
    "tags": []
   },
   "outputs": [
    {
     "data": {
      "text/html": [
       "<div>\n",
       "<style scoped>\n",
       "    .dataframe tbody tr th:only-of-type {\n",
       "        vertical-align: middle;\n",
       "    }\n",
       "\n",
       "    .dataframe tbody tr th {\n",
       "        vertical-align: top;\n",
       "    }\n",
       "\n",
       "    .dataframe thead th {\n",
       "        text-align: right;\n",
       "    }\n",
       "</style>\n",
       "<table border=\"1\" class=\"dataframe\">\n",
       "  <thead>\n",
       "    <tr style=\"text-align: right;\">\n",
       "      <th></th>\n",
       "      <th>Year</th>\n",
       "      <th>Severity</th>\n",
       "      <th>Speed_limit</th>\n",
       "      <th>Light_condition</th>\n",
       "      <th>Weather_condition</th>\n",
       "      <th>Carriageway_hazards</th>\n",
       "      <th>Accidents</th>\n",
       "      <th>Adjusted serious</th>\n",
       "      <th>Adjusted slight</th>\n",
       "    </tr>\n",
       "  </thead>\n",
       "  <tbody>\n",
       "    <tr>\n",
       "      <th>0</th>\n",
       "      <td>2005</td>\n",
       "      <td>Fatal</td>\n",
       "      <td>1-20 mph</td>\n",
       "      <td>Daylight</td>\n",
       "      <td>Fine no high winds</td>\n",
       "      <td>None</td>\n",
       "      <td>5</td>\n",
       "      <td>NaN</td>\n",
       "      <td>NaN</td>\n",
       "    </tr>\n",
       "    <tr>\n",
       "      <th>1</th>\n",
       "      <td>2005</td>\n",
       "      <td>Fatal</td>\n",
       "      <td>1-20 mph</td>\n",
       "      <td>Daylight</td>\n",
       "      <td>Other</td>\n",
       "      <td>None</td>\n",
       "      <td>1</td>\n",
       "      <td>NaN</td>\n",
       "      <td>NaN</td>\n",
       "    </tr>\n",
       "    <tr>\n",
       "      <th>2</th>\n",
       "      <td>2005</td>\n",
       "      <td>Fatal</td>\n",
       "      <td>1-20 mph</td>\n",
       "      <td>Darkness - lights lit</td>\n",
       "      <td>Fine no high winds</td>\n",
       "      <td>None</td>\n",
       "      <td>2</td>\n",
       "      <td>NaN</td>\n",
       "      <td>NaN</td>\n",
       "    </tr>\n",
       "    <tr>\n",
       "      <th>3</th>\n",
       "      <td>2005</td>\n",
       "      <td>Fatal</td>\n",
       "      <td>21-30 mph</td>\n",
       "      <td>Daylight</td>\n",
       "      <td>Unknown</td>\n",
       "      <td>None</td>\n",
       "      <td>8</td>\n",
       "      <td>NaN</td>\n",
       "      <td>NaN</td>\n",
       "    </tr>\n",
       "    <tr>\n",
       "      <th>4</th>\n",
       "      <td>2005</td>\n",
       "      <td>Fatal</td>\n",
       "      <td>21-30 mph</td>\n",
       "      <td>Daylight</td>\n",
       "      <td>Fine no high winds</td>\n",
       "      <td>None</td>\n",
       "      <td>473</td>\n",
       "      <td>NaN</td>\n",
       "      <td>NaN</td>\n",
       "    </tr>\n",
       "  </tbody>\n",
       "</table>\n",
       "</div>"
      ],
      "text/plain": [
       "   Year Severity Speed_limit        Light_condition   Weather_condition  \\\n",
       "0  2005    Fatal    1-20 mph               Daylight  Fine no high winds   \n",
       "1  2005    Fatal    1-20 mph               Daylight               Other   \n",
       "2  2005    Fatal    1-20 mph  Darkness - lights lit  Fine no high winds   \n",
       "3  2005    Fatal   21-30 mph               Daylight             Unknown   \n",
       "4  2005    Fatal   21-30 mph               Daylight  Fine no high winds   \n",
       "\n",
       "  Carriageway_hazards  Accidents  Adjusted serious  Adjusted slight  \n",
       "0                None          5               NaN              NaN  \n",
       "1                None          1               NaN              NaN  \n",
       "2                None          2               NaN              NaN  \n",
       "3                None          8               NaN              NaN  \n",
       "4                None        473               NaN              NaN  "
      ]
     },
     "execution_count": 5,
     "metadata": {},
     "output_type": "execute_result"
    }
   ],
   "source": [
    "accidents_df = accidents_df.rename(columns={'Accident year' : 'Year', 'Accident severity' : 'Severity', 'Speed limit' : 'Speed_limit', 'Light condition' : 'Light_condition', 'Weather condition' : 'Weather_condition', 'Carriageway hazards' : 'Carriageway_hazards','Accident month' : 'Accident_month'})\n",
    "accidents_df.head()"
   ]
  },
  {
   "cell_type": "code",
   "execution_count": 6,
   "id": "ac7b4f64-04cd-41f0-b9d4-887d7dc3eb5a",
   "metadata": {},
   "outputs": [],
   "source": [
    "#accidents_df.drop(['Adjusted serious','Adjusted slight'], axis = 1,inplace = True)"
   ]
  },
  {
   "cell_type": "code",
   "execution_count": 7,
   "id": "57b9af50-1b9b-4d0e-b1e8-c5d11c6b3e09",
   "metadata": {},
   "outputs": [
    {
     "data": {
      "text/plain": [
       "(16909, 9)"
      ]
     },
     "execution_count": 7,
     "metadata": {},
     "output_type": "execute_result"
    }
   ],
   "source": [
    "accidents_df.shape"
   ]
  },
  {
   "cell_type": "code",
   "execution_count": 8,
   "id": "b3eaaee5-b9a9-4e1d-95c5-251aacbaf1c0",
   "metadata": {},
   "outputs": [
    {
     "name": "stdout",
     "output_type": "stream",
     "text": [
      "<class 'pandas.core.frame.DataFrame'>\n",
      "RangeIndex: 16909 entries, 0 to 16908\n",
      "Data columns (total 9 columns):\n",
      " #   Column               Non-Null Count  Dtype  \n",
      "---  ------               --------------  -----  \n",
      " 0   Year                 16909 non-null  int64  \n",
      " 1   Severity             16909 non-null  object \n",
      " 2   Speed_limit          16909 non-null  object \n",
      " 3   Light_condition      16909 non-null  object \n",
      " 4   Weather_condition    16909 non-null  object \n",
      " 5   Carriageway_hazards  16909 non-null  object \n",
      " 6   Accidents            16909 non-null  int64  \n",
      " 7   Adjusted serious     14615 non-null  float64\n",
      " 8   Adjusted slight      14615 non-null  float64\n",
      "dtypes: float64(2), int64(2), object(5)\n",
      "memory usage: 1.2+ MB\n"
     ]
    }
   ],
   "source": [
    "accidents_df.info()"
   ]
  },
  {
   "cell_type": "code",
   "execution_count": 9,
   "id": "b1dde916-2c96-4504-afed-2c646721c229",
   "metadata": {},
   "outputs": [
    {
     "data": {
      "text/html": [
       "<div>\n",
       "<style scoped>\n",
       "    .dataframe tbody tr th:only-of-type {\n",
       "        vertical-align: middle;\n",
       "    }\n",
       "\n",
       "    .dataframe tbody tr th {\n",
       "        vertical-align: top;\n",
       "    }\n",
       "\n",
       "    .dataframe thead th {\n",
       "        text-align: right;\n",
       "    }\n",
       "</style>\n",
       "<table border=\"1\" class=\"dataframe\">\n",
       "  <thead>\n",
       "    <tr style=\"text-align: right;\">\n",
       "      <th></th>\n",
       "      <th>Year</th>\n",
       "      <th>Severity</th>\n",
       "      <th>Speed_limit</th>\n",
       "      <th>Light_condition</th>\n",
       "      <th>Weather_condition</th>\n",
       "      <th>Carriageway_hazards</th>\n",
       "      <th>Accidents</th>\n",
       "      <th>Adjusted serious</th>\n",
       "      <th>Adjusted slight</th>\n",
       "    </tr>\n",
       "  </thead>\n",
       "  <tbody>\n",
       "    <tr>\n",
       "      <th>0</th>\n",
       "      <td>2005</td>\n",
       "      <td>Fatal</td>\n",
       "      <td>1-20 mph</td>\n",
       "      <td>Daylight</td>\n",
       "      <td>Fine no high winds</td>\n",
       "      <td>None</td>\n",
       "      <td>5</td>\n",
       "      <td>NaN</td>\n",
       "      <td>NaN</td>\n",
       "    </tr>\n",
       "    <tr>\n",
       "      <th>1</th>\n",
       "      <td>2005</td>\n",
       "      <td>Fatal</td>\n",
       "      <td>1-20 mph</td>\n",
       "      <td>Daylight</td>\n",
       "      <td>Other</td>\n",
       "      <td>None</td>\n",
       "      <td>1</td>\n",
       "      <td>NaN</td>\n",
       "      <td>NaN</td>\n",
       "    </tr>\n",
       "    <tr>\n",
       "      <th>2</th>\n",
       "      <td>2005</td>\n",
       "      <td>Fatal</td>\n",
       "      <td>1-20 mph</td>\n",
       "      <td>Darkness - lights lit</td>\n",
       "      <td>Fine no high winds</td>\n",
       "      <td>None</td>\n",
       "      <td>2</td>\n",
       "      <td>NaN</td>\n",
       "      <td>NaN</td>\n",
       "    </tr>\n",
       "    <tr>\n",
       "      <th>3</th>\n",
       "      <td>2005</td>\n",
       "      <td>Fatal</td>\n",
       "      <td>21-30 mph</td>\n",
       "      <td>Daylight</td>\n",
       "      <td>Unknown</td>\n",
       "      <td>None</td>\n",
       "      <td>8</td>\n",
       "      <td>NaN</td>\n",
       "      <td>NaN</td>\n",
       "    </tr>\n",
       "    <tr>\n",
       "      <th>4</th>\n",
       "      <td>2005</td>\n",
       "      <td>Fatal</td>\n",
       "      <td>21-30 mph</td>\n",
       "      <td>Daylight</td>\n",
       "      <td>Fine no high winds</td>\n",
       "      <td>None</td>\n",
       "      <td>473</td>\n",
       "      <td>NaN</td>\n",
       "      <td>NaN</td>\n",
       "    </tr>\n",
       "    <tr>\n",
       "      <th>...</th>\n",
       "      <td>...</td>\n",
       "      <td>...</td>\n",
       "      <td>...</td>\n",
       "      <td>...</td>\n",
       "      <td>...</td>\n",
       "      <td>...</td>\n",
       "      <td>...</td>\n",
       "      <td>...</td>\n",
       "      <td>...</td>\n",
       "    </tr>\n",
       "    <tr>\n",
       "      <th>16904</th>\n",
       "      <td>2020</td>\n",
       "      <td>Slight</td>\n",
       "      <td>Motorway</td>\n",
       "      <td>Darkness - lighting unknown</td>\n",
       "      <td>Fine no high winds</td>\n",
       "      <td>Other object on road</td>\n",
       "      <td>1</td>\n",
       "      <td>0.012649</td>\n",
       "      <td>0.987351</td>\n",
       "    </tr>\n",
       "    <tr>\n",
       "      <th>16905</th>\n",
       "      <td>2020</td>\n",
       "      <td>Slight</td>\n",
       "      <td>Motorway</td>\n",
       "      <td>Darkness - lighting unknown</td>\n",
       "      <td>Raining no high winds</td>\n",
       "      <td>None</td>\n",
       "      <td>10</td>\n",
       "      <td>0.021170</td>\n",
       "      <td>9.978830</td>\n",
       "    </tr>\n",
       "    <tr>\n",
       "      <th>16906</th>\n",
       "      <td>2020</td>\n",
       "      <td>Slight</td>\n",
       "      <td>Motorway</td>\n",
       "      <td>Darkness - lighting unknown</td>\n",
       "      <td>Raining + high winds</td>\n",
       "      <td>None</td>\n",
       "      <td>3</td>\n",
       "      <td>0.003871</td>\n",
       "      <td>2.996129</td>\n",
       "    </tr>\n",
       "    <tr>\n",
       "      <th>16907</th>\n",
       "      <td>2020</td>\n",
       "      <td>Slight</td>\n",
       "      <td>Motorway</td>\n",
       "      <td>Darkness - lighting unknown</td>\n",
       "      <td>Fog or mist</td>\n",
       "      <td>None</td>\n",
       "      <td>1</td>\n",
       "      <td>0.012512</td>\n",
       "      <td>0.987488</td>\n",
       "    </tr>\n",
       "    <tr>\n",
       "      <th>16908</th>\n",
       "      <td>2020</td>\n",
       "      <td>Slight</td>\n",
       "      <td>Motorway</td>\n",
       "      <td>Darkness - lighting unknown</td>\n",
       "      <td>Other</td>\n",
       "      <td>None</td>\n",
       "      <td>2</td>\n",
       "      <td>0.009878</td>\n",
       "      <td>1.990122</td>\n",
       "    </tr>\n",
       "  </tbody>\n",
       "</table>\n",
       "<p>16909 rows × 9 columns</p>\n",
       "</div>"
      ],
      "text/plain": [
       "       Year Severity Speed_limit              Light_condition  \\\n",
       "0      2005    Fatal    1-20 mph                     Daylight   \n",
       "1      2005    Fatal    1-20 mph                     Daylight   \n",
       "2      2005    Fatal    1-20 mph        Darkness - lights lit   \n",
       "3      2005    Fatal   21-30 mph                     Daylight   \n",
       "4      2005    Fatal   21-30 mph                     Daylight   \n",
       "...     ...      ...         ...                          ...   \n",
       "16904  2020   Slight    Motorway  Darkness - lighting unknown   \n",
       "16905  2020   Slight    Motorway  Darkness - lighting unknown   \n",
       "16906  2020   Slight    Motorway  Darkness - lighting unknown   \n",
       "16907  2020   Slight    Motorway  Darkness - lighting unknown   \n",
       "16908  2020   Slight    Motorway  Darkness - lighting unknown   \n",
       "\n",
       "           Weather_condition   Carriageway_hazards  Accidents  \\\n",
       "0         Fine no high winds                  None          5   \n",
       "1                      Other                  None          1   \n",
       "2         Fine no high winds                  None          2   \n",
       "3                    Unknown                  None          8   \n",
       "4         Fine no high winds                  None        473   \n",
       "...                      ...                   ...        ...   \n",
       "16904     Fine no high winds  Other object on road          1   \n",
       "16905  Raining no high winds                  None         10   \n",
       "16906   Raining + high winds                  None          3   \n",
       "16907            Fog or mist                  None          1   \n",
       "16908                  Other                  None          2   \n",
       "\n",
       "       Adjusted serious  Adjusted slight  \n",
       "0                   NaN              NaN  \n",
       "1                   NaN              NaN  \n",
       "2                   NaN              NaN  \n",
       "3                   NaN              NaN  \n",
       "4                   NaN              NaN  \n",
       "...                 ...              ...  \n",
       "16904          0.012649         0.987351  \n",
       "16905          0.021170         9.978830  \n",
       "16906          0.003871         2.996129  \n",
       "16907          0.012512         0.987488  \n",
       "16908          0.009878         1.990122  \n",
       "\n",
       "[16909 rows x 9 columns]"
      ]
     },
     "execution_count": 9,
     "metadata": {},
     "output_type": "execute_result"
    }
   ],
   "source": [
    "accidents_df"
   ]
  },
  {
   "cell_type": "code",
   "execution_count": null,
   "id": "bb82f7ba-5895-4270-beb2-7ed172fd8a91",
   "metadata": {},
   "outputs": [],
   "source": []
  },
  {
   "cell_type": "code",
   "execution_count": null,
   "id": "3400a52a-400c-4c5a-8490-e714ab1e170d",
   "metadata": {},
   "outputs": [],
   "source": []
  },
  {
   "cell_type": "code",
   "execution_count": 10,
   "id": "092c0655-895d-439c-ba73-21f28be4feca",
   "metadata": {},
   "outputs": [
    {
     "data": {
      "text/html": [
       "<div>\n",
       "<style scoped>\n",
       "    .dataframe tbody tr th:only-of-type {\n",
       "        vertical-align: middle;\n",
       "    }\n",
       "\n",
       "    .dataframe tbody tr th {\n",
       "        vertical-align: top;\n",
       "    }\n",
       "\n",
       "    .dataframe thead th {\n",
       "        text-align: right;\n",
       "    }\n",
       "</style>\n",
       "<table border=\"1\" class=\"dataframe\">\n",
       "  <thead>\n",
       "    <tr style=\"text-align: right;\">\n",
       "      <th></th>\n",
       "      <th>Type</th>\n",
       "      <th>Count</th>\n",
       "    </tr>\n",
       "  </thead>\n",
       "  <tbody>\n",
       "    <tr>\n",
       "      <th>0</th>\n",
       "      <td>Slight</td>\n",
       "      <td>1997365</td>\n",
       "    </tr>\n",
       "    <tr>\n",
       "      <th>1</th>\n",
       "      <td>Serious</td>\n",
       "      <td>350080</td>\n",
       "    </tr>\n",
       "    <tr>\n",
       "      <th>2</th>\n",
       "      <td>Fatal</td>\n",
       "      <td>31089</td>\n",
       "    </tr>\n",
       "  </tbody>\n",
       "</table>\n",
       "</div>"
      ],
      "text/plain": [
       "      Type    Count\n",
       "0   Slight  1997365\n",
       "1  Serious   350080\n",
       "2    Fatal    31089"
      ]
     },
     "execution_count": 10,
     "metadata": {},
     "output_type": "execute_result"
    }
   ],
   "source": [
    "Severity_df = accidents_df.Severity.value_counts()\n",
    "Index_Array = Severity_df.index.to_numpy()\n",
    "Count_array = []\n",
    "Type_array = []\n",
    "for x in Index_Array:\n",
    "    count = accidents_df.loc[accidents_df['Severity'] == x].Accidents.sum()\n",
    "    Count_array.append(count)\n",
    "    Type_array.append(x)\n",
    "my_df = pd.DataFrame({'Type': Type_array, 'Count': Count_array})\n",
    "my_df"
   ]
  },
  {
   "cell_type": "code",
   "execution_count": null,
   "id": "f26a28db-0b41-404a-a230-c1e5eede0bfa",
   "metadata": {
    "tags": []
   },
   "outputs": [],
   "source": []
  },
  {
   "cell_type": "code",
   "execution_count": 11,
   "id": "65218dae-cd41-4511-b3cb-070f8a772fa3",
   "metadata": {},
   "outputs": [
    {
     "data": {
      "image/png": "[encoded data removed]",
      "text/plain": [
       "<Figure size 400x400 with 1 Axes>"
      ]
     },
     "metadata": {},
     "output_type": "display_data"
    }
   ],
   "source": [
    "plt.figure(figsize=(5,5),dpi=80)\n",
    "plt.pie(my_df.Count,labels=my_df.Type)\n",
    "plt.show()"
   ]
  },
  {
   "cell_type": "code",
   "execution_count": 12,
   "id": "3f609856-e86a-4ef8-99b7-f98ec58fcf97",
   "metadata": {},
   "outputs": [
    {
     "data": {
      "text/plain": [
       "Daylight                       5641\n",
       "Darkness - lights lit          4122\n",
       "Darkness - no lighting         3989\n",
       "Darkness - lighting unknown    1779\n",
       "Darkness - lights unlit        1368\n",
       "Unknown                          10\n",
       "Name: Light_condition, dtype: int64"
      ]
     },
     "execution_count": 12,
     "metadata": {},
     "output_type": "execute_result"
    }
   ],
   "source": [
    "Light_array = accidents_df.Light_condition.value_counts()\n",
    "Light_array"
   ]
  },
  {
   "cell_type": "code",
   "execution_count": 13,
   "id": "10ab0303-2a81-4d43-b21c-5bb3b84e6a05",
   "metadata": {},
   "outputs": [
    {
     "data": {
      "text/html": [
       "<div>\n",
       "<style scoped>\n",
       "    .dataframe tbody tr th:only-of-type {\n",
       "        vertical-align: middle;\n",
       "    }\n",
       "\n",
       "    .dataframe tbody tr th {\n",
       "        vertical-align: top;\n",
       "    }\n",
       "\n",
       "    .dataframe thead th {\n",
       "        text-align: right;\n",
       "    }\n",
       "</style>\n",
       "<table border=\"1\" class=\"dataframe\">\n",
       "  <thead>\n",
       "    <tr style=\"text-align: right;\">\n",
       "      <th></th>\n",
       "      <th>Type</th>\n",
       "      <th>Count</th>\n",
       "    </tr>\n",
       "  </thead>\n",
       "  <tbody>\n",
       "    <tr>\n",
       "      <th>0</th>\n",
       "      <td>Daylight</td>\n",
       "      <td>1732459</td>\n",
       "    </tr>\n",
       "    <tr>\n",
       "      <th>1</th>\n",
       "      <td>Darkness - lights lit</td>\n",
       "      <td>472309</td>\n",
       "    </tr>\n",
       "    <tr>\n",
       "      <th>2</th>\n",
       "      <td>Darkness - no lighting</td>\n",
       "      <td>129690</td>\n",
       "    </tr>\n",
       "    <tr>\n",
       "      <th>3</th>\n",
       "      <td>Darkness - lighting unknown</td>\n",
       "      <td>31656</td>\n",
       "    </tr>\n",
       "    <tr>\n",
       "      <th>4</th>\n",
       "      <td>Darkness - lights unlit</td>\n",
       "      <td>12404</td>\n",
       "    </tr>\n",
       "    <tr>\n",
       "      <th>5</th>\n",
       "      <td>Unknown</td>\n",
       "      <td>16</td>\n",
       "    </tr>\n",
       "  </tbody>\n",
       "</table>\n",
       "</div>"
      ],
      "text/plain": [
       "                          Type    Count\n",
       "0                     Daylight  1732459\n",
       "1        Darkness - lights lit   472309\n",
       "2       Darkness - no lighting   129690\n",
       "3  Darkness - lighting unknown    31656\n",
       "4      Darkness - lights unlit    12404\n",
       "5                      Unknown       16"
      ]
     },
     "execution_count": 13,
     "metadata": {},
     "output_type": "execute_result"
    }
   ],
   "source": [
    "Light_array = accidents_df.Light_condition.value_counts()\n",
    "Index_Array = Light_array.index.to_numpy()\n",
    "Count_array = []\n",
    "Type_array = []\n",
    "for x in Index_Array:\n",
    "    count = accidents_df.loc[accidents_df['Light_condition'] == x].Accidents.sum()\n",
    "    Count_array.append(count)\n",
    "    Type_array.append(x)\n",
    "\n",
    "My_Light_df = pd.DataFrame({'Type': Type_array,\n",
    "                   'Count': Count_array})\n",
    "My_Light_df"
   ]
  },
  {
   "cell_type": "code",
   "execution_count": 14,
   "id": "7eb08ebc-4256-4177-995a-b6f841bb92e8",
   "metadata": {},
   "outputs": [
    {
     "data": {
      "image/png": "[encoded data removed]",
      "text/plain": [
       "<Figure size 500x500 with 1 Axes>"
      ]
     },
     "metadata": {},
     "output_type": "display_data"
    }
   ],
   "source": [
    "plt.figure(figsize=(10,10),dpi=50)\n",
    "plt.pie(My_Light_df.Count,labels=My_Light_df.Type)\n",
    "plt.show()"
   ]
  },
  {
   "cell_type": "code",
   "execution_count": 15,
   "id": "2358aded-1c1b-4fef-a461-22d89f7236ef",
   "metadata": {},
   "outputs": [
    {
     "data": {
      "text/plain": [
       "Fine no high winds       4702\n",
       "Raining no high winds    2922\n",
       "Other                    1718\n",
       "Raining + high winds     1682\n",
       "Unknown                  1606\n",
       "Fine + high winds        1515\n",
       "Fog or mist              1202\n",
       "Snowing no high winds     994\n",
       "Snowing + high winds      568\n",
       "Name: Weather_condition, dtype: int64"
      ]
     },
     "execution_count": 15,
     "metadata": {},
     "output_type": "execute_result"
    }
   ],
   "source": [
    "accidents_df.Weather_condition.value_counts()"
   ]
  },
  {
   "cell_type": "code",
   "execution_count": 16,
   "id": "413d14d4-70fa-4adb-b533-3babc95c932e",
   "metadata": {},
   "outputs": [
    {
     "data": {
      "text/html": [
       "<div>\n",
       "<style scoped>\n",
       "    .dataframe tbody tr th:only-of-type {\n",
       "        vertical-align: middle;\n",
       "    }\n",
       "\n",
       "    .dataframe tbody tr th {\n",
       "        vertical-align: top;\n",
       "    }\n",
       "\n",
       "    .dataframe thead th {\n",
       "        text-align: right;\n",
       "    }\n",
       "</style>\n",
       "<table border=\"1\" class=\"dataframe\">\n",
       "  <thead>\n",
       "    <tr style=\"text-align: right;\">\n",
       "      <th></th>\n",
       "      <th>Type</th>\n",
       "      <th>Count</th>\n",
       "    </tr>\n",
       "  </thead>\n",
       "  <tbody>\n",
       "    <tr>\n",
       "      <th>0</th>\n",
       "      <td>Fine no high winds</td>\n",
       "      <td>1902298</td>\n",
       "    </tr>\n",
       "    <tr>\n",
       "      <th>1</th>\n",
       "      <td>Raining no high winds</td>\n",
       "      <td>278932</td>\n",
       "    </tr>\n",
       "    <tr>\n",
       "      <th>2</th>\n",
       "      <td>Other</td>\n",
       "      <td>52354</td>\n",
       "    </tr>\n",
       "    <tr>\n",
       "      <th>3</th>\n",
       "      <td>Raining + high winds</td>\n",
       "      <td>32715</td>\n",
       "    </tr>\n",
       "    <tr>\n",
       "      <th>4</th>\n",
       "      <td>Unknown</td>\n",
       "      <td>52234</td>\n",
       "    </tr>\n",
       "    <tr>\n",
       "      <th>5</th>\n",
       "      <td>Fine + high winds</td>\n",
       "      <td>29581</td>\n",
       "    </tr>\n",
       "    <tr>\n",
       "      <th>6</th>\n",
       "      <td>Fog or mist</td>\n",
       "      <td>12420</td>\n",
       "    </tr>\n",
       "    <tr>\n",
       "      <th>7</th>\n",
       "      <td>Snowing no high winds</td>\n",
       "      <td>14999</td>\n",
       "    </tr>\n",
       "    <tr>\n",
       "      <th>8</th>\n",
       "      <td>Snowing + high winds</td>\n",
       "      <td>3001</td>\n",
       "    </tr>\n",
       "  </tbody>\n",
       "</table>\n",
       "</div>"
      ],
      "text/plain": [
       "                    Type    Count\n",
       "0     Fine no high winds  1902298\n",
       "1  Raining no high winds   278932\n",
       "2                  Other    52354\n",
       "3   Raining + high winds    32715\n",
       "4                Unknown    52234\n",
       "5      Fine + high winds    29581\n",
       "6            Fog or mist    12420\n",
       "7  Snowing no high winds    14999\n",
       "8   Snowing + high winds     3001"
      ]
     },
     "execution_count": 16,
     "metadata": {},
     "output_type": "execute_result"
    }
   ],
   "source": [
    "Weather_array = accidents_df.Weather_condition.value_counts()\n",
    "Index_Array = Weather_array.index.to_numpy()\n",
    "Count_array = []\n",
    "Type_array = []\n",
    "for x in Index_Array:\n",
    "    count = accidents_df.loc[accidents_df['Weather_condition'] == x].Accidents.sum()\n",
    "    Count_array.append(count)\n",
    "    Type_array.append(x)\n",
    "\n",
    "My_Weather_df = pd.DataFrame({'Type': Type_array,\n",
    "                   'Count': Count_array})\n",
    "My_Weather_df"
   ]
  },
  {
   "cell_type": "code",
   "execution_count": 17,
   "id": "4524dae2-68f3-4368-96f3-bdbfe1908618",
   "metadata": {},
   "outputs": [
    {
     "data": {
      "image/png": "[encoded data removed]",
      "text/plain": [
       "<Figure size 500x500 with 1 Axes>"
      ]
     },
     "metadata": {},
     "output_type": "display_data"
    }
   ],
   "source": [
    "plt.figure(figsize=(10,10),dpi=50)\n",
    "plt.pie(My_Weather_df.Count,labels=My_Weather_df.Type)\n",
    "plt.show()"
   ]
  },
  {
   "cell_type": "code",
   "execution_count": 18,
   "id": "a1986dcf-8ea6-4ce5-9856-3dfe2f3319c1",
   "metadata": {},
   "outputs": [
    {
     "data": {
      "text/plain": [
       "<Figure size 4500x4500 with 0 Axes>"
      ]
     },
     "metadata": {},
     "output_type": "display_data"
    },
    {
     "data": {
      "image/png": "[encoded data removed]",
      "text/plain": [
       "<Figure size 432x288 with 1 Axes>"
      ]
     },
     "metadata": {
      "needs_background": "light"
     },
     "output_type": "display_data"
    }
   ],
   "source": [
    "plt.figure(figsize=(50,50),dpi=90)\n",
    "My_Weather_df.plot.bar(x=\"Type\", y=\"Count\", rot=90, title=\"Weather Conditions\", );\n",
    "plt.show(block=True);"
   ]
  },
  {
   "cell_type": "code",
   "execution_count": 19,
   "id": "90fb6137-2e0c-4932-ba85-5eb8c3505231",
   "metadata": {},
   "outputs": [
    {
     "data": {
      "text/plain": [
       "21-30 mph    3628\n",
       "51-60 mph    3211\n",
       "31-40 mph    2381\n",
       "61-70 mph    2253\n",
       "Motorway     2200\n",
       "41-50 mph    1946\n",
       "1-20 mph     1278\n",
       "Unknown        12\n",
       "Name: Speed_limit, dtype: int64"
      ]
     },
     "execution_count": 19,
     "metadata": {},
     "output_type": "execute_result"
    }
   ],
   "source": [
    "accidents_df.Speed_limit.value_counts()\n"
   ]
  },
  {
   "cell_type": "code",
   "execution_count": 20,
   "id": "c4871344-ff94-4e2a-9686-5a50ede0bfd0",
   "metadata": {},
   "outputs": [
    {
     "data": {
      "text/html": [
       "<div>\n",
       "<style scoped>\n",
       "    .dataframe tbody tr th:only-of-type {\n",
       "        vertical-align: middle;\n",
       "    }\n",
       "\n",
       "    .dataframe tbody tr th {\n",
       "        vertical-align: top;\n",
       "    }\n",
       "\n",
       "    .dataframe thead th {\n",
       "        text-align: right;\n",
       "    }\n",
       "</style>\n",
       "<table border=\"1\" class=\"dataframe\">\n",
       "  <thead>\n",
       "    <tr style=\"text-align: right;\">\n",
       "      <th></th>\n",
       "      <th>Speed</th>\n",
       "      <th>Count</th>\n",
       "    </tr>\n",
       "  </thead>\n",
       "  <tbody>\n",
       "    <tr>\n",
       "      <th>0</th>\n",
       "      <td>21-30 mph</td>\n",
       "      <td>1499773</td>\n",
       "    </tr>\n",
       "    <tr>\n",
       "      <th>1</th>\n",
       "      <td>51-60 mph</td>\n",
       "      <td>356976</td>\n",
       "    </tr>\n",
       "    <tr>\n",
       "      <th>2</th>\n",
       "      <td>31-40 mph</td>\n",
       "      <td>195150</td>\n",
       "    </tr>\n",
       "    <tr>\n",
       "      <th>3</th>\n",
       "      <td>61-70 mph</td>\n",
       "      <td>81255</td>\n",
       "    </tr>\n",
       "    <tr>\n",
       "      <th>4</th>\n",
       "      <td>Motorway</td>\n",
       "      <td>94837</td>\n",
       "    </tr>\n",
       "    <tr>\n",
       "      <th>5</th>\n",
       "      <td>41-50 mph</td>\n",
       "      <td>78492</td>\n",
       "    </tr>\n",
       "    <tr>\n",
       "      <th>6</th>\n",
       "      <td>1-20 mph</td>\n",
       "      <td>72013</td>\n",
       "    </tr>\n",
       "    <tr>\n",
       "      <th>7</th>\n",
       "      <td>Unknown</td>\n",
       "      <td>38</td>\n",
       "    </tr>\n",
       "  </tbody>\n",
       "</table>\n",
       "</div>"
      ],
      "text/plain": [
       "       Speed    Count\n",
       "0  21-30 mph  1499773\n",
       "1  51-60 mph   356976\n",
       "2  31-40 mph   195150\n",
       "3  61-70 mph    81255\n",
       "4   Motorway    94837\n",
       "5  41-50 mph    78492\n",
       "6   1-20 mph    72013\n",
       "7    Unknown       38"
      ]
     },
     "execution_count": 20,
     "metadata": {},
     "output_type": "execute_result"
    }
   ],
   "source": [
    "Speed_array = accidents_df.Speed_limit.value_counts()\n",
    "Index_Array = Speed_array.index.to_numpy()\n",
    "Count_array = []\n",
    "Type_array = []\n",
    "for x in Index_Array:\n",
    "    count = accidents_df.loc[accidents_df['Speed_limit'] == x].Accidents.sum()\n",
    "    Count_array.append(count)\n",
    "    Type_array.append(x)\n",
    "\n",
    "My_Speed_df = pd.DataFrame({'Speed': Type_array,'Count': Count_array})\n",
    "My_Speed_df"
   ]
  },
  {
   "cell_type": "code",
   "execution_count": 21,
   "id": "d8bcf835-9c22-4e8e-b2ae-1b03708fb856",
   "metadata": {},
   "outputs": [
    {
     "data": {
      "image/png": "[encoded data removed]",
      "text/plain": [
       "<Figure size 500x500 with 1 Axes>"
      ]
     },
     "metadata": {},
     "output_type": "display_data"
    }
   ],
   "source": [
    "plt.figure(figsize=(5,5),dpi=100)\n",
    "plt.pie(My_Speed_df.Count,labels=My_Speed_df.Speed)\n",
    "plt.show()"
   ]
  },
  {
   "cell_type": "code",
   "execution_count": 22,
   "id": "58dbe234-25b5-4b7b-bc18-ce382f3b2919",
   "metadata": {},
   "outputs": [
    {
     "data": {
      "text/plain": [
       "<Figure size 4500x4500 with 0 Axes>"
      ]
     },
     "metadata": {},
     "output_type": "display_data"
    },
    {
     "data": {
      "image/png": "[encoded data removed]",
      "text/plain": [
       "<Figure size 432x288 with 1 Axes>"
      ]
     },
     "metadata": {
      "needs_background": "light"
     },
     "output_type": "display_data"
    }
   ],
   "source": [
    "plt.figure(figsize=(50,50),dpi=90)\n",
    "My_Speed_df.plot.bar(x=\"Speed\", y=\"Count\", rot=90, title=\"Weather Conditions\", );\n",
    "plt.show(block=True);"
   ]
  },
  {
   "cell_type": "code",
   "execution_count": null,
   "id": "b970ee2d-91f3-40ba-9d51-bb0f3a2fa3ee",
   "metadata": {},
   "outputs": [],
   "source": [
    "\n"
   ]
  },
  {
   "cell_type": "code",
   "execution_count": 23,
   "id": "ab0097c5-19dc-437a-b180-a66fdd244af2",
   "metadata": {},
   "outputs": [
    {
     "data": {
      "text/html": [
       "<div>\n",
       "<style scoped>\n",
       "    .dataframe tbody tr th:only-of-type {\n",
       "        vertical-align: middle;\n",
       "    }\n",
       "\n",
       "    .dataframe tbody tr th {\n",
       "        vertical-align: top;\n",
       "    }\n",
       "\n",
       "    .dataframe thead th {\n",
       "        text-align: right;\n",
       "    }\n",
       "</style>\n",
       "<table border=\"1\" class=\"dataframe\">\n",
       "  <thead>\n",
       "    <tr style=\"text-align: right;\">\n",
       "      <th></th>\n",
       "      <th>Carriageway_hazards</th>\n",
       "      <th>Count</th>\n",
       "    </tr>\n",
       "  </thead>\n",
       "  <tbody>\n",
       "    <tr>\n",
       "      <th>0</th>\n",
       "      <td>None</td>\n",
       "      <td>2328661</td>\n",
       "    </tr>\n",
       "    <tr>\n",
       "      <th>1</th>\n",
       "      <td>Other object on road</td>\n",
       "      <td>19291</td>\n",
       "    </tr>\n",
       "    <tr>\n",
       "      <th>2</th>\n",
       "      <td>Any animal in carriageway (except ridden horse)</td>\n",
       "      <td>11455</td>\n",
       "    </tr>\n",
       "    <tr>\n",
       "      <th>3</th>\n",
       "      <td>Previous accident</td>\n",
       "      <td>3674</td>\n",
       "    </tr>\n",
       "    <tr>\n",
       "      <th>4</th>\n",
       "      <td>Vehicle load on road</td>\n",
       "      <td>3136</td>\n",
       "    </tr>\n",
       "    <tr>\n",
       "      <th>5</th>\n",
       "      <td>Pedestrian in carriageway - not injured</td>\n",
       "      <td>5300</td>\n",
       "    </tr>\n",
       "    <tr>\n",
       "      <th>6</th>\n",
       "      <td>Unknown</td>\n",
       "      <td>7017</td>\n",
       "    </tr>\n",
       "  </tbody>\n",
       "</table>\n",
       "</div>"
      ],
      "text/plain": [
       "                               Carriageway_hazards    Count\n",
       "0                                             None  2328661\n",
       "1                             Other object on road    19291\n",
       "2  Any animal in carriageway (except ridden horse)    11455\n",
       "3                                Previous accident     3674\n",
       "4                             Vehicle load on road     3136\n",
       "5          Pedestrian in carriageway - not injured     5300\n",
       "6                                          Unknown     7017"
      ]
     },
     "execution_count": 23,
     "metadata": {},
     "output_type": "execute_result"
    }
   ],
   "source": [
    "Carriageway_array = accidents_df.Carriageway_hazards.value_counts()\n",
    "Index_Array = Carriageway_array.index.to_numpy()\n",
    "Count_array = []\n",
    "Type_array = []\n",
    "for x in Index_Array:\n",
    "    count = accidents_df.loc[accidents_df['Carriageway_hazards'] == x].Accidents.sum()\n",
    "    Count_array.append(count)\n",
    "    Type_array.append(x)\n",
    "\n",
    "My_Carriageway_df = pd.DataFrame({'Carriageway_hazards': Type_array,'Count': Count_array})\n",
    "My_Carriageway_df"
   ]
  },
  {
   "cell_type": "code",
   "execution_count": 24,
   "id": "9e8be80e-bb35-40c1-a2be-ae52baaefd37",
   "metadata": {},
   "outputs": [
    {
     "data": {
      "image/png": "[encoded data removed]",
      "text/plain": [
       "<Figure size 432x288 with 1 Axes>"
      ]
     },
     "metadata": {},
     "output_type": "display_data"
    }
   ],
   "source": [
    "plt.pie(My_Carriageway_df.Count)\n",
    "plt.show()"
   ]
  },
  {
   "cell_type": "markdown",
   "id": "4fd5c337-6222-466a-875e-c9e5c20f50ca",
   "metadata": {},
   "source": [
    "baraye in ke bebinim tekrari darad ya na"
   ]
  },
  {
   "cell_type": "code",
   "execution_count": 25,
   "id": "d3c7b315-4bbe-461a-a1ce-382c4588df88",
   "metadata": {},
   "outputs": [
    {
     "data": {
      "text/html": [
       "<div>\n",
       "<style scoped>\n",
       "    .dataframe tbody tr th:only-of-type {\n",
       "        vertical-align: middle;\n",
       "    }\n",
       "\n",
       "    .dataframe tbody tr th {\n",
       "        vertical-align: top;\n",
       "    }\n",
       "\n",
       "    .dataframe thead th {\n",
       "        text-align: right;\n",
       "    }\n",
       "</style>\n",
       "<table border=\"1\" class=\"dataframe\">\n",
       "  <thead>\n",
       "    <tr style=\"text-align: right;\">\n",
       "      <th></th>\n",
       "      <th>Year</th>\n",
       "      <th>Accidents</th>\n",
       "      <th>Adjusted serious</th>\n",
       "      <th>Adjusted slight</th>\n",
       "    </tr>\n",
       "  </thead>\n",
       "  <tbody>\n",
       "    <tr>\n",
       "      <th>count</th>\n",
       "      <td>16909.000000</td>\n",
       "      <td>16909.000000</td>\n",
       "      <td>14615.000000</td>\n",
       "      <td>14615.000000</td>\n",
       "    </tr>\n",
       "    <tr>\n",
       "      <th>mean</th>\n",
       "      <td>2012.583358</td>\n",
       "      <td>140.666746</td>\n",
       "      <td>32.930422</td>\n",
       "      <td>127.688463</td>\n",
       "    </tr>\n",
       "    <tr>\n",
       "      <th>std</th>\n",
       "      <td>4.697672</td>\n",
       "      <td>1703.444933</td>\n",
       "      <td>306.030195</td>\n",
       "      <td>1694.845210</td>\n",
       "    </tr>\n",
       "    <tr>\n",
       "      <th>min</th>\n",
       "      <td>2005.000000</td>\n",
       "      <td>1.000000</td>\n",
       "      <td>0.000000</td>\n",
       "      <td>0.000000</td>\n",
       "    </tr>\n",
       "    <tr>\n",
       "      <th>25%</th>\n",
       "      <td>2008.000000</td>\n",
       "      <td>1.000000</td>\n",
       "      <td>0.137590</td>\n",
       "      <td>0.000000</td>\n",
       "    </tr>\n",
       "    <tr>\n",
       "      <th>50%</th>\n",
       "      <td>2013.000000</td>\n",
       "      <td>3.000000</td>\n",
       "      <td>1.000000</td>\n",
       "      <td>0.997180</td>\n",
       "    </tr>\n",
       "    <tr>\n",
       "      <th>75%</th>\n",
       "      <td>2017.000000</td>\n",
       "      <td>14.000000</td>\n",
       "      <td>3.650868</td>\n",
       "      <td>6.925192</td>\n",
       "    </tr>\n",
       "    <tr>\n",
       "      <th>max</th>\n",
       "      <td>2020.000000</td>\n",
       "      <td>68171.000000</td>\n",
       "      <td>8291.669215</td>\n",
       "      <td>63463.322440</td>\n",
       "    </tr>\n",
       "  </tbody>\n",
       "</table>\n",
       "</div>"
      ],
      "text/plain": [
       "               Year     Accidents  Adjusted serious  Adjusted slight\n",
       "count  16909.000000  16909.000000      14615.000000     14615.000000\n",
       "mean    2012.583358    140.666746         32.930422       127.688463\n",
       "std        4.697672   1703.444933        306.030195      1694.845210\n",
       "min     2005.000000      1.000000          0.000000         0.000000\n",
       "25%     2008.000000      1.000000          0.137590         0.000000\n",
       "50%     2013.000000      3.000000          1.000000         0.997180\n",
       "75%     2017.000000     14.000000          3.650868         6.925192\n",
       "max     2020.000000  68171.000000       8291.669215     63463.322440"
      ]
     },
     "execution_count": 25,
     "metadata": {},
     "output_type": "execute_result"
    }
   ],
   "source": [
    "accidents_df.drop_duplicates(inplace=True)\n",
    "accidents_df.describe()"
   ]
  },
  {
   "cell_type": "code",
   "execution_count": null,
   "id": "9f1b1a72-971c-4a5a-932b-faca738d500a",
   "metadata": {},
   "outputs": [],
   "source": []
  },
  {
   "cell_type": "code",
   "execution_count": 26,
   "id": "423439cc-b958-4677-880b-59e513a8e711",
   "metadata": {},
   "outputs": [
    {
     "data": {
      "text/html": [
       "<div>\n",
       "<style scoped>\n",
       "    .dataframe tbody tr th:only-of-type {\n",
       "        vertical-align: middle;\n",
       "    }\n",
       "\n",
       "    .dataframe tbody tr th {\n",
       "        vertical-align: top;\n",
       "    }\n",
       "\n",
       "    .dataframe thead th {\n",
       "        text-align: right;\n",
       "    }\n",
       "</style>\n",
       "<table border=\"1\" class=\"dataframe\">\n",
       "  <thead>\n",
       "    <tr style=\"text-align: right;\">\n",
       "      <th></th>\n",
       "      <th>Year</th>\n",
       "      <th>Severity</th>\n",
       "      <th>Speed_limit</th>\n",
       "      <th>Light_condition</th>\n",
       "      <th>Weather_condition</th>\n",
       "      <th>Carriageway_hazards</th>\n",
       "      <th>Accidents</th>\n",
       "      <th>Adjusted serious</th>\n",
       "      <th>Adjusted slight</th>\n",
       "    </tr>\n",
       "  </thead>\n",
       "  <tbody>\n",
       "    <tr>\n",
       "      <th>0</th>\n",
       "      <td>2005</td>\n",
       "      <td>Fatal</td>\n",
       "      <td>1-20 mph</td>\n",
       "      <td>Daylight</td>\n",
       "      <td>Fine no high winds</td>\n",
       "      <td>None</td>\n",
       "      <td>5</td>\n",
       "      <td>NaN</td>\n",
       "      <td>NaN</td>\n",
       "    </tr>\n",
       "    <tr>\n",
       "      <th>1</th>\n",
       "      <td>2005</td>\n",
       "      <td>Fatal</td>\n",
       "      <td>1-20 mph</td>\n",
       "      <td>Daylight</td>\n",
       "      <td>Other</td>\n",
       "      <td>None</td>\n",
       "      <td>1</td>\n",
       "      <td>NaN</td>\n",
       "      <td>NaN</td>\n",
       "    </tr>\n",
       "    <tr>\n",
       "      <th>2</th>\n",
       "      <td>2005</td>\n",
       "      <td>Fatal</td>\n",
       "      <td>1-20 mph</td>\n",
       "      <td>Darkness - lights lit</td>\n",
       "      <td>Fine no high winds</td>\n",
       "      <td>None</td>\n",
       "      <td>2</td>\n",
       "      <td>NaN</td>\n",
       "      <td>NaN</td>\n",
       "    </tr>\n",
       "    <tr>\n",
       "      <th>3</th>\n",
       "      <td>2005</td>\n",
       "      <td>Fatal</td>\n",
       "      <td>21-30 mph</td>\n",
       "      <td>Daylight</td>\n",
       "      <td>Unknown</td>\n",
       "      <td>None</td>\n",
       "      <td>8</td>\n",
       "      <td>NaN</td>\n",
       "      <td>NaN</td>\n",
       "    </tr>\n",
       "    <tr>\n",
       "      <th>4</th>\n",
       "      <td>2005</td>\n",
       "      <td>Fatal</td>\n",
       "      <td>21-30 mph</td>\n",
       "      <td>Daylight</td>\n",
       "      <td>Fine no high winds</td>\n",
       "      <td>None</td>\n",
       "      <td>473</td>\n",
       "      <td>NaN</td>\n",
       "      <td>NaN</td>\n",
       "    </tr>\n",
       "  </tbody>\n",
       "</table>\n",
       "</div>"
      ],
      "text/plain": [
       "   Year Severity Speed_limit        Light_condition   Weather_condition  \\\n",
       "0  2005    Fatal    1-20 mph               Daylight  Fine no high winds   \n",
       "1  2005    Fatal    1-20 mph               Daylight               Other   \n",
       "2  2005    Fatal    1-20 mph  Darkness - lights lit  Fine no high winds   \n",
       "3  2005    Fatal   21-30 mph               Daylight             Unknown   \n",
       "4  2005    Fatal   21-30 mph               Daylight  Fine no high winds   \n",
       "\n",
       "  Carriageway_hazards  Accidents  Adjusted serious  Adjusted slight  \n",
       "0                None          5               NaN              NaN  \n",
       "1                None          1               NaN              NaN  \n",
       "2                None          2               NaN              NaN  \n",
       "3                None          8               NaN              NaN  \n",
       "4                None        473               NaN              NaN  "
      ]
     },
     "execution_count": 26,
     "metadata": {},
     "output_type": "execute_result"
    }
   ],
   "source": [
    "accidents_df.head()"
   ]
  },
  {
   "cell_type": "code",
   "execution_count": 27,
   "id": "670897a0-7a1a-4ce6-9991-df88acb29b09",
   "metadata": {},
   "outputs": [
    {
     "data": {
      "text/plain": [
       "2378534"
      ]
     },
     "execution_count": 27,
     "metadata": {},
     "output_type": "execute_result"
    }
   ],
   "source": [
    "Count_accident_array = []\n",
    "Year_accident_array = []\n",
    "All_Accidents_Number = 0\n",
    "year = 2005\n",
    "for x in range(16):\n",
    "    count = accidents_df.loc[accidents_df['Year'] == year].Accidents.sum()\n",
    "    Count_accident_array.append(count)\n",
    "    Year_accident_array.append(year)\n",
    "    All_Accidents_Number += count\n",
    "    year = year + 1\n",
    "\n",
    "All_Accidents_Number"
   ]
  },
  {
   "cell_type": "code",
   "execution_count": 28,
   "id": "ed18287c-7674-45ed-bade-cc73391ae4a2",
   "metadata": {},
   "outputs": [
    {
     "data": {
      "text/html": [
       "<div>\n",
       "<style scoped>\n",
       "    .dataframe tbody tr th:only-of-type {\n",
       "        vertical-align: middle;\n",
       "    }\n",
       "\n",
       "    .dataframe tbody tr th {\n",
       "        vertical-align: top;\n",
       "    }\n",
       "\n",
       "    .dataframe thead th {\n",
       "        text-align: right;\n",
       "    }\n",
       "</style>\n",
       "<table border=\"1\" class=\"dataframe\">\n",
       "  <thead>\n",
       "    <tr style=\"text-align: right;\">\n",
       "      <th></th>\n",
       "      <th>Year</th>\n",
       "      <th>Count</th>\n",
       "    </tr>\n",
       "  </thead>\n",
       "  <tbody>\n",
       "    <tr>\n",
       "      <th>0</th>\n",
       "      <td>2005</td>\n",
       "      <td>198735</td>\n",
       "    </tr>\n",
       "    <tr>\n",
       "      <th>1</th>\n",
       "      <td>2006</td>\n",
       "      <td>189161</td>\n",
       "    </tr>\n",
       "    <tr>\n",
       "      <th>2</th>\n",
       "      <td>2007</td>\n",
       "      <td>182115</td>\n",
       "    </tr>\n",
       "    <tr>\n",
       "      <th>3</th>\n",
       "      <td>2008</td>\n",
       "      <td>170591</td>\n",
       "    </tr>\n",
       "    <tr>\n",
       "      <th>4</th>\n",
       "      <td>2009</td>\n",
       "      <td>163554</td>\n",
       "    </tr>\n",
       "    <tr>\n",
       "      <th>5</th>\n",
       "      <td>2010</td>\n",
       "      <td>154414</td>\n",
       "    </tr>\n",
       "    <tr>\n",
       "      <th>6</th>\n",
       "      <td>2011</td>\n",
       "      <td>151474</td>\n",
       "    </tr>\n",
       "    <tr>\n",
       "      <th>7</th>\n",
       "      <td>2012</td>\n",
       "      <td>145571</td>\n",
       "    </tr>\n",
       "    <tr>\n",
       "      <th>8</th>\n",
       "      <td>2013</td>\n",
       "      <td>138660</td>\n",
       "    </tr>\n",
       "    <tr>\n",
       "      <th>9</th>\n",
       "      <td>2014</td>\n",
       "      <td>146322</td>\n",
       "    </tr>\n",
       "    <tr>\n",
       "      <th>10</th>\n",
       "      <td>2015</td>\n",
       "      <td>140056</td>\n",
       "    </tr>\n",
       "    <tr>\n",
       "      <th>11</th>\n",
       "      <td>2016</td>\n",
       "      <td>136621</td>\n",
       "    </tr>\n",
       "    <tr>\n",
       "      <th>12</th>\n",
       "      <td>2017</td>\n",
       "      <td>129982</td>\n",
       "    </tr>\n",
       "    <tr>\n",
       "      <th>13</th>\n",
       "      <td>2018</td>\n",
       "      <td>122635</td>\n",
       "    </tr>\n",
       "    <tr>\n",
       "      <th>14</th>\n",
       "      <td>2019</td>\n",
       "      <td>117456</td>\n",
       "    </tr>\n",
       "    <tr>\n",
       "      <th>15</th>\n",
       "      <td>2020</td>\n",
       "      <td>91187</td>\n",
       "    </tr>\n",
       "  </tbody>\n",
       "</table>\n",
       "</div>"
      ],
      "text/plain": [
       "    Year   Count\n",
       "0   2005  198735\n",
       "1   2006  189161\n",
       "2   2007  182115\n",
       "3   2008  170591\n",
       "4   2009  163554\n",
       "5   2010  154414\n",
       "6   2011  151474\n",
       "7   2012  145571\n",
       "8   2013  138660\n",
       "9   2014  146322\n",
       "10  2015  140056\n",
       "11  2016  136621\n",
       "12  2017  129982\n",
       "13  2018  122635\n",
       "14  2019  117456\n",
       "15  2020   91187"
      ]
     },
     "execution_count": 28,
     "metadata": {},
     "output_type": "execute_result"
    }
   ],
   "source": [
    "my_df = pd.DataFrame({'Year': Year_accident_array,'Count': Count_accident_array})\n",
    "my_df"
   ]
  },
  {
   "cell_type": "code",
   "execution_count": 29,
   "id": "d4c61f62-0937-4963-8511-2aed208b6340",
   "metadata": {},
   "outputs": [
    {
     "data": {
      "text/plain": [
       "count        16.000000\n",
       "mean     148658.375000\n",
       "std       27866.202796\n",
       "min       91187.000000\n",
       "25%      134961.250000\n",
       "50%      145946.500000\n",
       "75%      165313.250000\n",
       "max      198735.000000\n",
       "Name: Count, dtype: float64"
      ]
     },
     "execution_count": 29,
     "metadata": {},
     "output_type": "execute_result"
    }
   ],
   "source": [
    "my_df.Count.describe()"
   ]
  },
  {
   "cell_type": "code",
   "execution_count": null,
   "id": "f829664e-edde-412f-9f33-ecd321859101",
   "metadata": {},
   "outputs": [],
   "source": []
  },
  {
   "cell_type": "code",
   "execution_count": null,
   "id": "a075f2b8-1f3c-45f5-ada9-c052ffbdd686",
   "metadata": {},
   "outputs": [],
   "source": []
  },
  {
   "cell_type": "code",
   "execution_count": null,
   "id": "aa12364e-135d-4a73-a9c2-fa1d1d87d681",
   "metadata": {},
   "outputs": [],
   "source": []
  },
  {
   "cell_type": "code",
   "execution_count": 31,
   "id": "f42f7dfd-7bfe-4a7c-a423-17b87f97c953",
   "metadata": {},
   "outputs": [
    {
     "data": {
      "text/plain": [
       "-0.9667706354453498"
      ]
     },
     "execution_count": 31,
     "metadata": {},
     "output_type": "execute_result"
    }
   ],
   "source": [
    "pearson_coefficent , _ = pearsonr(my_df.Year, my_df.Count)\n",
    "pearson_coefficent"
   ]
  },
  {
   "cell_type": "code",
   "execution_count": 32,
   "id": "71646425-0ad2-4a35-afb8-52e8c0981554",
   "metadata": {},
   "outputs": [
    {
     "data": {
      "text/html": [
       "<div>\n",
       "<style scoped>\n",
       "    .dataframe tbody tr th:only-of-type {\n",
       "        vertical-align: middle;\n",
       "    }\n",
       "\n",
       "    .dataframe tbody tr th {\n",
       "        vertical-align: top;\n",
       "    }\n",
       "\n",
       "    .dataframe thead th {\n",
       "        text-align: right;\n",
       "    }\n",
       "</style>\n",
       "<table border=\"1\" class=\"dataframe\">\n",
       "  <thead>\n",
       "    <tr style=\"text-align: right;\">\n",
       "      <th></th>\n",
       "      <th>Year</th>\n",
       "      <th>Count</th>\n",
       "    </tr>\n",
       "  </thead>\n",
       "  <tbody>\n",
       "    <tr>\n",
       "      <th>Year</th>\n",
       "      <td>1.000000</td>\n",
       "      <td>-0.966771</td>\n",
       "    </tr>\n",
       "    <tr>\n",
       "      <th>Count</th>\n",
       "      <td>-0.966771</td>\n",
       "      <td>1.000000</td>\n",
       "    </tr>\n",
       "  </tbody>\n",
       "</table>\n",
       "</div>"
      ],
      "text/plain": [
       "           Year     Count\n",
       "Year   1.000000 -0.966771\n",
       "Count -0.966771  1.000000"
      ]
     },
     "execution_count": 32,
     "metadata": {},
     "output_type": "execute_result"
    }
   ],
   "source": [
    "corr = my_df.corr()\n",
    "corr"
   ]
  },
  {
   "cell_type": "code",
   "execution_count": 33,
   "id": "e0fcccf8-6b12-4d1a-a120-4bc01657f323",
   "metadata": {},
   "outputs": [
    {
     "data": {
      "image/png": "[encoded data removed]",
      "text/plain": [
       "<Figure size 432x288 with 2 Axes>"
      ]
     },
     "metadata": {
      "needs_background": "light"
     },
     "output_type": "display_data"
    }
   ],
   "source": [
    "sb.heatmap(corr, xticklabels=my_df.columns, yticklabels = my_df.columns)\n",
    "plt.show()"
   ]
  },
  {
   "cell_type": "code",
   "execution_count": 34,
   "id": "d0cae65c-f9e6-4000-a82b-c5a634ef5da2",
   "metadata": {},
   "outputs": [
    {
     "data": {
      "image/png": "[encoded data removed]",
      "text/plain": [
       "<Figure size 432x288 with 2 Axes>"
      ]
     },
     "metadata": {
      "needs_background": "light"
     },
     "output_type": "display_data"
    }
   ],
   "source": [
    "sb.heatmap(corr, xticklabels=corr.columns, yticklabels = corr.columns, vmin = -1, vmax = +1)\n",
    "plt.show()"
   ]
  },
  {
   "cell_type": "code",
   "execution_count": null,
   "id": "0a446145-4e29-43e9-8a2e-666184cd9e15",
   "metadata": {},
   "outputs": [],
   "source": []
  },
  {
   "cell_type": "code",
   "execution_count": null,
   "id": "aa4abcf6-8358-46e4-9ad6-28b22e46fdbe",
   "metadata": {},
   "outputs": [],
   "source": []
  },
  {
   "cell_type": "code",
   "execution_count": null,
   "id": "3c99d426-e2bc-48e8-a152-7d8e7275d8d7",
   "metadata": {},
   "outputs": [],
   "source": []
  },
  {
   "cell_type": "code",
   "execution_count": 36,
   "id": "df70a09d-d60d-4bae-85c1-9a9d5bfc3186",
   "metadata": {},
   "outputs": [
    {
     "data": {
      "text/plain": [
       "array([[0.        , 1.        ],\n",
       "       [0.06666667, 0.91097928],\n",
       "       [0.13333333, 0.84546435],\n",
       "       [0.2       , 0.7383122 ],\n",
       "       [0.26666667, 0.67288095],\n",
       "       [0.33333333, 0.58789564],\n",
       "       [0.4       , 0.56055901],\n",
       "       [0.46666667, 0.50567189],\n",
       "       [0.53333333, 0.44141221],\n",
       "       [0.6       , 0.51265481],\n",
       "       [0.66666667, 0.45439246],\n",
       "       [0.73333333, 0.42245323],\n",
       "       [0.8       , 0.36072265],\n",
       "       [0.86666667, 0.29240897],\n",
       "       [0.93333333, 0.24425373],\n",
       "       [1.        , 0.        ]])"
      ]
     },
     "execution_count": 36,
     "metadata": {},
     "output_type": "execute_result"
    }
   ],
   "source": [
    "my_df_new = minmax_scale(my_df, feature_range=(0,1))\n",
    "\n",
    "#my_df_new = normalize(my_df, norm='l1', axis = 0)\n",
    "my_df_new"
   ]
  },
  {
   "cell_type": "code",
   "execution_count": 37,
   "id": "2dc3c58b-08ba-4478-a7dc-2f1accd9f417",
   "metadata": {},
   "outputs": [
    {
     "data": {
      "text/plain": [
       "count    16.000000\n",
       "mean      0.534379\n",
       "std       0.259105\n",
       "min       0.000000\n",
       "25%       0.407021\n",
       "50%       0.509163\n",
       "75%       0.689239\n",
       "max       1.000000\n",
       "Name: Count, dtype: float64"
      ]
     },
     "execution_count": 37,
     "metadata": {},
     "output_type": "execute_result"
    }
   ],
   "source": [
    "df_data = pd.DataFrame(my_df_new, index=my_df.index, columns=my_df.columns)\n",
    "df_data\n",
    "my_df = df_data\n",
    "my_df.Count.describe()"
   ]
  },
  {
   "cell_type": "code",
   "execution_count": null,
   "id": "a7ca25bd-9e01-4a22-b42d-1c4c9fa04b8d",
   "metadata": {},
   "outputs": [],
   "source": []
  },
  {
   "cell_type": "code",
   "execution_count": 38,
   "id": "686c0b9e-21ae-444d-97b4-aa8ddce88859",
   "metadata": {},
   "outputs": [
    {
     "data": {
      "image/png": "[encoded data removed]",
      "text/plain": [
       "<Figure size 960x560 with 1 Axes>"
      ]
     },
     "metadata": {
      "needs_background": "light"
     },
     "output_type": "display_data"
    }
   ],
   "source": [
    "plt.figure(figsize=(12,7),dpi=80)\n",
    "plt.plot(Year_accident_array, Count_accident_array, ls='-', marker='+',mew=8)\n",
    "\n",
    "plt.show()"
   ]
  },
  {
   "cell_type": "code",
   "execution_count": 39,
   "id": "b1982aeb-2508-4aa9-a20a-843f2c4f1957",
   "metadata": {},
   "outputs": [],
   "source": [
    "x = my_df.Year\n",
    "y = my_df.Count"
   ]
  },
  {
   "cell_type": "code",
   "execution_count": 40,
   "id": "7f0035a6-dc94-42ed-9e59-69554704a1fb",
   "metadata": {},
   "outputs": [
    {
     "data": {
      "image/png": "[encoded data removed]",
      "text/plain": [
       "<Figure size 960x560 with 1 Axes>"
      ]
     },
     "metadata": {
      "needs_background": "light"
     },
     "output_type": "display_data"
    }
   ],
   "source": [
    "plt.figure(figsize=(12,7),dpi=80)\n",
    "plt.scatter(x,y)\n",
    "plt.show()"
   ]
  },
  {
   "cell_type": "code",
   "execution_count": 41,
   "id": "02122855-303a-4907-a5b9-186b2aa8982b",
   "metadata": {},
   "outputs": [],
   "source": [
    "x = my_df[['Year']].to_numpy()\n",
    "y = my_df[['Count']].to_numpy()\n"
   ]
  },
  {
   "cell_type": "code",
   "execution_count": null,
   "id": "709e144c-2b64-4d7d-a8e5-e3eb78f9b6bf",
   "metadata": {},
   "outputs": [],
   "source": []
  },
  {
   "cell_type": "code",
   "execution_count": null,
   "id": "25e22996-9954-4247-a0d8-8bfa41df8649",
   "metadata": {},
   "outputs": [],
   "source": []
  },
  {
   "cell_type": "code",
   "execution_count": null,
   "id": "3c780b00-0d00-4e10-bd3c-47b41ead1775",
   "metadata": {},
   "outputs": [],
   "source": []
  },
  {
   "cell_type": "code",
   "execution_count": null,
   "id": "fa8938c3-d991-4677-9917-b43715246e80",
   "metadata": {},
   "outputs": [],
   "source": []
  },
  {
   "cell_type": "code",
   "execution_count": null,
   "id": "733e183a-9c3d-44af-b4f8-a19796743513",
   "metadata": {},
   "outputs": [],
   "source": []
  },
  {
   "cell_type": "code",
   "execution_count": null,
   "id": "2dbed8f0-d28f-403d-a58b-cf0fda94c7ee",
   "metadata": {},
   "outputs": [],
   "source": []
  },
  {
   "cell_type": "code",
   "execution_count": null,
   "id": "d361966d-8361-48fd-98bf-f3b94d3aba24",
   "metadata": {},
   "outputs": [],
   "source": []
  },
  {
   "cell_type": "code",
   "execution_count": null,
   "id": "2f3cf3d2-acb0-4f8c-88aa-d0dfe855db98",
   "metadata": {},
   "outputs": [],
   "source": []
  },
  {
   "cell_type": "code",
   "execution_count": 42,
   "id": "2c7f2e7f-5b59-453b-ae67-236aa24259de",
   "metadata": {},
   "outputs": [],
   "source": [
    "#Liner Regreassion"
   ]
  },
  {
   "cell_type": "code",
   "execution_count": 44,
   "id": "64a4dddc-6096-4c36-a0e6-16a27a0de30b",
   "metadata": {},
   "outputs": [
    {
     "data": {
      "text/plain": [
       "LinearRegression()"
      ]
     },
     "execution_count": 44,
     "metadata": {},
     "output_type": "execute_result"
    }
   ],
   "source": [
    "reg = LinearRegression()\n",
    "reg.fit(x,y)"
   ]
  },
  {
   "cell_type": "code",
   "execution_count": 45,
   "id": "d2c8e560-d467-4b9b-972d-d309ab785cf6",
   "metadata": {},
   "outputs": [],
   "source": [
    "yhat = reg.predict(x)"
   ]
  },
  {
   "cell_type": "code",
   "execution_count": 46,
   "id": "5805deed-addf-4296-b792-aa7961b9458c",
   "metadata": {},
   "outputs": [
    {
     "data": {
      "image/png": "[encoded data removed]",
      "text/plain": [
       "<Figure size 960x560 with 1 Axes>"
      ]
     },
     "metadata": {
      "needs_background": "light"
     },
     "output_type": "display_data"
    }
   ],
   "source": [
    "plt.figure(figsize=(12,7),dpi=80)\n",
    "plt.scatter(x,y)\n",
    "plt.plot(x,yhat)\n",
    "plt.show()"
   ]
  },
  {
   "cell_type": "code",
   "execution_count": 48,
   "id": "85199dc0-4bee-4c33-80de-3c1347ac1596",
   "metadata": {},
   "outputs": [],
   "source": [
    "x_train, x_test, y_train, y_test = train_test_split(x,y,test_size=0.8, random_state = 42) "
   ]
  },
  {
   "cell_type": "code",
   "execution_count": 49,
   "id": "180a42c4-e344-4b32-b07f-d3385815ab06",
   "metadata": {},
   "outputs": [
    {
     "data": {
      "image/png": "[encoded data removed]",
      "text/plain": [
       "<Figure size 960x560 with 1 Axes>"
      ]
     },
     "metadata": {
      "needs_background": "light"
     },
     "output_type": "display_data"
    }
   ],
   "source": [
    "reg = LinearRegression()\n",
    "reg.fit(x_train, y_train)\n",
    "y_pred = reg.predict(x_test)\n",
    "\n",
    "plt.figure(figsize=(12,7),dpi=80)\n",
    "plt.scatter(y_test, y_pred)\n",
    "plt.xlabel('Real Data')\n",
    "plt.ylabel('Predicted Data')\n",
    "plt.show()"
   ]
  },
  {
   "cell_type": "code",
   "execution_count": 51,
   "id": "607f2eef-c726-4922-a4c3-7238d3dfc3da",
   "metadata": {},
   "outputs": [
    {
     "data": {
      "text/plain": [
       "0.008633251315655953"
      ]
     },
     "execution_count": 51,
     "metadata": {},
     "output_type": "execute_result"
    }
   ],
   "source": [
    "mse = metrics.mean_squared_error(y_test, y_pred)\n",
    "mse"
   ]
  },
  {
   "cell_type": "code",
   "execution_count": 53,
   "id": "9caca645-306b-45cd-a95c-69fe7feae292",
   "metadata": {},
   "outputs": [
    {
     "data": {
      "text/plain": [
       "array([ 0.81466742, -0.90063936,  0.59692966])"
      ]
     },
     "execution_count": 53,
     "metadata": {},
     "output_type": "execute_result"
    }
   ],
   "source": [
    "cv_scores = cross_val_score(reg, x, y, cv=3)\n",
    "cv_scores"
   ]
  },
  {
   "cell_type": "code",
   "execution_count": 54,
   "id": "be6377fb-b46e-4ea8-a264-2802156c61c7",
   "metadata": {},
   "outputs": [
    {
     "data": {
      "text/plain": [
       "0.17031923927536588"
      ]
     },
     "execution_count": 54,
     "metadata": {},
     "output_type": "execute_result"
    }
   ],
   "source": [
    "np.mean(cv_scores)"
   ]
  },
  {
   "cell_type": "code",
   "execution_count": 56,
   "id": "3633186f-578b-401a-a96a-2ca111438afa",
   "metadata": {},
   "outputs": [
    {
     "data": {
      "text/plain": [
       "[0.004599536561523161,\n",
       " 0.005747426217161396,\n",
       " 0.007246115426454472,\n",
       " 0.008915491425219382,\n",
       " 0.010649590275945852,\n",
       " 0.01238577338009868,\n",
       " 0.014087324702406008,\n",
       " 0.015733315966537147,\n",
       " 0.017312550104690745,\n",
       " 0.018819863707253276]"
      ]
     },
     "execution_count": 56,
     "metadata": {},
     "output_type": "execute_result"
    }
   ],
   "source": [
    "mse_array = []\n",
    "alpha_array = []\n",
    "_alpha = 0.1\n",
    "for i in range(10):\n",
    "    ridge = Ridge(alpha = _alpha, normalize = True)\n",
    "    ridge.fit(x, y)\n",
    "    ridge_pred = ridge.predict(x)\n",
    "    mse = metrics.mean_squared_error(y, ridge_pred)\n",
    "    mse_array.append(mse)\n",
    "    alpha_array.append(_alpha)\n",
    "    _alpha += 0.1\n",
    "mse_array"
   ]
  },
  {
   "cell_type": "code",
   "execution_count": 57,
   "id": "863d1848-11a0-4e27-a668-a90cb446ade1",
   "metadata": {},
   "outputs": [
    {
     "data": {
      "image/png": "[encoded data removed]",
      "text/plain": [
       "<Figure size 960x560 with 1 Axes>"
      ]
     },
     "metadata": {
      "needs_background": "light"
     },
     "output_type": "display_data"
    }
   ],
   "source": [
    "plt.figure(figsize=(12,7),dpi=80)\n",
    "turkey_pop = [27.47,34.88,43.98,53.92,63.24,72.33,79.51]\n",
    "plt.plot(alpha_array, mse_array, ls='-', marker='+',mew=8)\n",
    "plt.title('Mean Squared Error For Different Alphas')\n",
    "plt.xlabel('Alpha')\n",
    "plt.ylabel('Result')\n",
    "plt.xticks([0.1,0.2,0.3,0.4,0.5,0.6,0.7,0.8,0.9,1])\n",
    "plt.yticks([0.004, 0.005, 0.007, 0.008, 0.010, 0.012, 0.014, 0.015,0.017,0.018])\n",
    "plt.grid()\n",
    "plt.annotate('Best Alpha', xytext=(0.1,0.009),fontsize=10, xy=(0.1,0.005599536561523161), arrowprops=dict(facecolor='silver',width=5))\n",
    "plt.yticks\n",
    "plt.show()"
   ]
  },
  {
   "cell_type": "code",
   "execution_count": 58,
   "id": "936b6c6a-c793-4da6-9113-b566a9548878",
   "metadata": {},
   "outputs": [
    {
     "data": {
      "text/plain": [
       "array([-0.16481273,  0.2515358 ])"
      ]
     },
     "execution_count": 58,
     "metadata": {},
     "output_type": "execute_result"
    }
   ],
   "source": [
    "cv_scores = cross_val_score(ridge, x, y, cv=2)\n",
    "cv_scores"
   ]
  },
  {
   "cell_type": "code",
   "execution_count": 59,
   "id": "94fa392e-1362-474a-96ef-6c88e0221f2d",
   "metadata": {},
   "outputs": [
    {
     "data": {
      "text/plain": [
       "0.04336153585500363"
      ]
     },
     "execution_count": 59,
     "metadata": {},
     "output_type": "execute_result"
    }
   ],
   "source": [
    "np.mean(cv_scores)"
   ]
  },
  {
   "cell_type": "code",
   "execution_count": null,
   "id": "4bf41ca4-d4b7-47bd-a535-e9b4dd73c71c",
   "metadata": {},
   "outputs": [],
   "source": []
  },
  {
   "cell_type": "code",
   "execution_count": null,
   "id": "f11d3142-9d8b-43f1-be35-2173b881f724",
   "metadata": {},
   "outputs": [],
   "source": []
  },
  {
   "cell_type": "code",
   "execution_count": null,
   "id": "e64e212e-dd06-413f-9a97-376b052b316d",
   "metadata": {},
   "outputs": [],
   "source": []
  },
  {
   "cell_type": "code",
   "execution_count": null,
   "id": "9058f3a4-69c1-4740-b09f-fe75253cea4f",
   "metadata": {},
   "outputs": [],
   "source": []
  },
  {
   "cell_type": "code",
   "execution_count": null,
   "id": "319aaa39-9cc0-4ce9-85a3-cfedcf064713",
   "metadata": {},
   "outputs": [],
   "source": []
  },
  {
   "cell_type": "code",
   "execution_count": null,
   "id": "a3e08526-b3c0-4402-a5ee-c0850dca73f5",
   "metadata": {},
   "outputs": [],
   "source": []
  },
  {
   "cell_type": "code",
   "execution_count": null,
   "id": "2f332f0b-568b-4de2-a8e9-ad260b61e2ee",
   "metadata": {},
   "outputs": [],
   "source": []
  },
  {
   "cell_type": "code",
   "execution_count": null,
   "id": "befae42f-84f5-437b-90a7-4b2c4c9d5a2e",
   "metadata": {},
   "outputs": [],
   "source": []
  },
  {
   "cell_type": "code",
   "execution_count": null,
   "id": "478c73ae-faae-4c3d-a109-6d9789a92290",
   "metadata": {},
   "outputs": [],
   "source": []
  },
  {
   "cell_type": "code",
   "execution_count": null,
   "id": "efaa94ce-3107-4741-ab0b-9b25e202f468",
   "metadata": {},
   "outputs": [],
   "source": []
  },
  {
   "cell_type": "code",
   "execution_count": null,
   "id": "abe6470b-03d8-4910-af32-666164f213fd",
   "metadata": {},
   "outputs": [],
   "source": []
  },
  {
   "cell_type": "code",
   "execution_count": null,
   "id": "bcdc165e-123a-423b-9776-e2d12e4f964d",
   "metadata": {},
   "outputs": [],
   "source": []
  },
  {
   "cell_type": "code",
   "execution_count": null,
   "id": "986e4557-a11a-40e0-a517-41ecddd33aee",
   "metadata": {},
   "outputs": [],
   "source": []
  },
  {
   "cell_type": "code",
   "execution_count": null,
   "id": "7dc34349-510a-45a2-bcd3-9893ebfe3749",
   "metadata": {},
   "outputs": [],
   "source": []
  },
  {
   "cell_type": "code",
   "execution_count": null,
   "id": "68aa28aa-a8f9-438c-8da8-8948bd9439f7",
   "metadata": {},
   "outputs": [],
   "source": []
  },
  {
   "cell_type": "code",
   "execution_count": null,
   "id": "e32164e8-459e-4d55-9666-85ea63239c40",
   "metadata": {},
   "outputs": [],
   "source": []
  },
  {
   "cell_type": "code",
   "execution_count": null,
   "id": "4295ab48-9d40-4bad-b36b-ae633b371751",
   "metadata": {},
   "outputs": [],
   "source": []
  },
  {
   "cell_type": "code",
   "execution_count": null,
   "id": "ea42a25e-5821-4253-b2c3-b944f840121d",
   "metadata": {},
   "outputs": [],
   "source": []
  },
  {
   "cell_type": "code",
   "execution_count": null,
   "id": "ee4b8c10-19fa-4c8a-9d6d-9a5bac397348",
   "metadata": {},
   "outputs": [],
   "source": []
  },
  {
   "cell_type": "code",
   "execution_count": null,
   "id": "b96b0477-14d8-46c7-bc76-a176c629e5c0",
   "metadata": {},
   "outputs": [],
   "source": []
  },
  {
   "cell_type": "code",
   "execution_count": null,
   "id": "b019bd1f-8d19-4b2c-8bb7-3a9929301ed6",
   "metadata": {},
   "outputs": [],
   "source": []
  },
  {
   "cell_type": "code",
   "execution_count": null,
   "id": "3d8b2b2e-dccd-4615-9dd6-dfc85e387f3d",
   "metadata": {},
   "outputs": [],
   "source": []
  },
  {
   "cell_type": "code",
   "execution_count": null,
   "id": "984d02ee-ca56-42ba-aad3-d66fc4eb34eb",
   "metadata": {},
   "outputs": [],
   "source": []
  },
  {
   "cell_type": "code",
   "execution_count": null,
   "id": "d8417737-46e8-4968-bc0c-a13bd233944e",
   "metadata": {},
   "outputs": [],
   "source": []
  },
  {
   "cell_type": "code",
   "execution_count": null,
   "id": "e2455916-bae9-428c-ba27-672fb0efcc9b",
   "metadata": {},
   "outputs": [],
   "source": []
  },
  {
   "cell_type": "code",
   "execution_count": null,
   "id": "896314df-4401-4390-beae-59368a1925af",
   "metadata": {},
   "outputs": [],
   "source": []
  },
  {
   "cell_type": "code",
   "execution_count": null,
   "id": "0e5b898e-2d2b-4983-85d6-6387b23781c5",
   "metadata": {},
   "outputs": [],
   "source": []
  },
  {
   "cell_type": "code",
   "execution_count": null,
   "id": "d47cfb03-3f46-4f6f-81c0-9c96dbd5dc09",
   "metadata": {},
   "outputs": [],
   "source": []
  },
  {
   "cell_type": "code",
   "execution_count": null,
   "id": "32c11d4c-c92e-4332-9bdd-98cc5538fed0",
   "metadata": {},
   "outputs": [],
   "source": []
  },
  {
   "cell_type": "code",
   "execution_count": null,
   "id": "ca3b773c-2acf-41c7-adfd-ed57e6952979",
   "metadata": {},
   "outputs": [],
   "source": []
  },
  {
   "cell_type": "code",
   "execution_count": null,
   "id": "38336db4-bdc1-4239-8150-4eaee3ebd5cd",
   "metadata": {},
   "outputs": [],
   "source": []
  },
  {
   "cell_type": "code",
   "execution_count": null,
   "id": "53218273-9ed5-4fc7-88d2-460b342a9e90",
   "metadata": {},
   "outputs": [],
   "source": []
  },
  {
   "cell_type": "code",
   "execution_count": null,
   "id": "20ef7b8f-54de-4266-8337-e09babc0652b",
   "metadata": {},
   "outputs": [],
   "source": []
  },
  {
   "cell_type": "code",
   "execution_count": null,
   "id": "b5533a57-7557-492c-b8ff-89b8b8c4613a",
   "metadata": {},
   "outputs": [],
   "source": []
  },
  {
   "cell_type": "code",
   "execution_count": null,
   "id": "642c6a2a-3e96-4851-ad5c-0b40465027cf",
   "metadata": {},
   "outputs": [],
   "source": []
  },
  {
   "cell_type": "code",
   "execution_count": null,
   "id": "2434c048-3303-44e7-8386-a295607bcb43",
   "metadata": {},
   "outputs": [],
   "source": []
  },
  {
   "cell_type": "code",
   "execution_count": null,
   "id": "8b88dc8c-4def-4ca0-a8b4-69f5892a05e4",
   "metadata": {},
   "outputs": [],
   "source": []
  },
  {
   "cell_type": "code",
   "execution_count": null,
   "id": "745e17a4-2ccf-4c5f-87b8-637871414207",
   "metadata": {},
   "outputs": [],
   "source": []
  },
  {
   "cell_type": "markdown",
   "id": "907224ad-2423-42ab-bc24-3e3b729fa962",
   "metadata": {},
   "source": [
    "comparying"
   ]
  },
  {
   "cell_type": "code",
   "execution_count": 60,
   "id": "f29294fd-82eb-4c33-90f7-df3e92182892",
   "metadata": {},
   "outputs": [
    {
     "data": {
      "text/html": [
       "<div>\n",
       "<style scoped>\n",
       "    .dataframe tbody tr th:only-of-type {\n",
       "        vertical-align: middle;\n",
       "    }\n",
       "\n",
       "    .dataframe tbody tr th {\n",
       "        vertical-align: top;\n",
       "    }\n",
       "\n",
       "    .dataframe thead th {\n",
       "        text-align: right;\n",
       "    }\n",
       "</style>\n",
       "<table border=\"1\" class=\"dataframe\">\n",
       "  <thead>\n",
       "    <tr style=\"text-align: right;\">\n",
       "      <th></th>\n",
       "      <th>Year</th>\n",
       "      <th>Severity</th>\n",
       "      <th>Speed_limit</th>\n",
       "      <th>Light_condition</th>\n",
       "      <th>Weather_condition</th>\n",
       "      <th>Carriageway_hazards</th>\n",
       "      <th>Accidents</th>\n",
       "      <th>Adjusted serious</th>\n",
       "      <th>Adjusted slight</th>\n",
       "    </tr>\n",
       "  </thead>\n",
       "  <tbody>\n",
       "    <tr>\n",
       "      <th>0</th>\n",
       "      <td>2005</td>\n",
       "      <td>Fatal</td>\n",
       "      <td>1-20 mph</td>\n",
       "      <td>Daylight</td>\n",
       "      <td>Fine no high winds</td>\n",
       "      <td>None</td>\n",
       "      <td>5</td>\n",
       "      <td>NaN</td>\n",
       "      <td>NaN</td>\n",
       "    </tr>\n",
       "    <tr>\n",
       "      <th>1</th>\n",
       "      <td>2005</td>\n",
       "      <td>Fatal</td>\n",
       "      <td>1-20 mph</td>\n",
       "      <td>Daylight</td>\n",
       "      <td>Other</td>\n",
       "      <td>None</td>\n",
       "      <td>1</td>\n",
       "      <td>NaN</td>\n",
       "      <td>NaN</td>\n",
       "    </tr>\n",
       "    <tr>\n",
       "      <th>2</th>\n",
       "      <td>2005</td>\n",
       "      <td>Fatal</td>\n",
       "      <td>1-20 mph</td>\n",
       "      <td>Darkness - lights lit</td>\n",
       "      <td>Fine no high winds</td>\n",
       "      <td>None</td>\n",
       "      <td>2</td>\n",
       "      <td>NaN</td>\n",
       "      <td>NaN</td>\n",
       "    </tr>\n",
       "    <tr>\n",
       "      <th>3</th>\n",
       "      <td>2005</td>\n",
       "      <td>Fatal</td>\n",
       "      <td>21-30 mph</td>\n",
       "      <td>Daylight</td>\n",
       "      <td>Unknown</td>\n",
       "      <td>None</td>\n",
       "      <td>8</td>\n",
       "      <td>NaN</td>\n",
       "      <td>NaN</td>\n",
       "    </tr>\n",
       "    <tr>\n",
       "      <th>4</th>\n",
       "      <td>2005</td>\n",
       "      <td>Fatal</td>\n",
       "      <td>21-30 mph</td>\n",
       "      <td>Daylight</td>\n",
       "      <td>Fine no high winds</td>\n",
       "      <td>None</td>\n",
       "      <td>473</td>\n",
       "      <td>NaN</td>\n",
       "      <td>NaN</td>\n",
       "    </tr>\n",
       "  </tbody>\n",
       "</table>\n",
       "</div>"
      ],
      "text/plain": [
       "   Year Severity Speed_limit        Light_condition   Weather_condition  \\\n",
       "0  2005    Fatal    1-20 mph               Daylight  Fine no high winds   \n",
       "1  2005    Fatal    1-20 mph               Daylight               Other   \n",
       "2  2005    Fatal    1-20 mph  Darkness - lights lit  Fine no high winds   \n",
       "3  2005    Fatal   21-30 mph               Daylight             Unknown   \n",
       "4  2005    Fatal   21-30 mph               Daylight  Fine no high winds   \n",
       "\n",
       "  Carriageway_hazards  Accidents  Adjusted serious  Adjusted slight  \n",
       "0                None          5               NaN              NaN  \n",
       "1                None          1               NaN              NaN  \n",
       "2                None          2               NaN              NaN  \n",
       "3                None          8               NaN              NaN  \n",
       "4                None        473               NaN              NaN  "
      ]
     },
     "execution_count": 60,
     "metadata": {},
     "output_type": "execute_result"
    }
   ],
   "source": [
    "accidents_df.head()"
   ]
  },
  {
   "cell_type": "code",
   "execution_count": 61,
   "id": "bbe1cb14-2ee2-4e80-b801-3067b9d336ea",
   "metadata": {},
   "outputs": [
    {
     "data": {
      "text/plain": [
       "Slight     9305\n",
       "Serious    5310\n",
       "Fatal      2294\n",
       "Name: Severity, dtype: int64"
      ]
     },
     "execution_count": 61,
     "metadata": {},
     "output_type": "execute_result"
    }
   ],
   "source": [
    "accidents_df.Severity.value_counts()"
   ]
  },
  {
   "cell_type": "code",
   "execution_count": 62,
   "id": "9bd9586f-6d5e-4a06-8ac3-aef1b65e37c4",
   "metadata": {},
   "outputs": [],
   "source": [
    "accidents_df.Severity.replace({'Slight': 1},inplace = True)\n",
    "accidents_df.Severity.replace({'Serious': 2},inplace = True)\n",
    "accidents_df.Severity.replace({'Fatal': 3},inplace = True)\n",
    "accidents_df = accidents_df.astype({'Severity':'int'})"
   ]
  },
  {
   "cell_type": "code",
   "execution_count": 63,
   "id": "dcac7a39-c098-445a-bf73-083013d3ac49",
   "metadata": {},
   "outputs": [
    {
     "data": {
      "text/plain": [
       "1    9305\n",
       "2    5310\n",
       "3    2294\n",
       "Name: Severity, dtype: int64"
      ]
     },
     "execution_count": 63,
     "metadata": {},
     "output_type": "execute_result"
    }
   ],
   "source": [
    "accidents_df.Severity.value_counts()"
   ]
  },
  {
   "cell_type": "code",
   "execution_count": null,
   "id": "596b6834-b598-46f3-a451-e93b923551bf",
   "metadata": {},
   "outputs": [],
   "source": []
  },
  {
   "cell_type": "code",
   "execution_count": null,
   "id": "f9459313-8663-4b29-8b9f-5dbcf605fee9",
   "metadata": {},
   "outputs": [],
   "source": []
  },
  {
   "cell_type": "code",
   "execution_count": 64,
   "id": "8bd75a2b-93e8-488a-b2e7-87a91961b918",
   "metadata": {},
   "outputs": [
    {
     "data": {
      "text/plain": [
       "Daylight                       5641\n",
       "Darkness - lights lit          4122\n",
       "Darkness - no lighting         3989\n",
       "Darkness - lighting unknown    1779\n",
       "Darkness - lights unlit        1368\n",
       "Unknown                          10\n",
       "Name: Light_condition, dtype: int64"
      ]
     },
     "execution_count": 64,
     "metadata": {},
     "output_type": "execute_result"
    }
   ],
   "source": [
    "accidents_df.Light_condition.value_counts()"
   ]
  },
  {
   "cell_type": "raw",
   "id": "2de1cf52-7fa6-4d6d-817f-f687d3dec84d",
   "metadata": {},
   "source": [
    "accidents_df.Light_condition.replace({'Daylight': 1},inplace = True)\n",
    "accidents_df.Light_condition.replace({'Darkness - lights lit': 2},inplace = True)\n",
    "accidents_df.Light_condition.replace({'Darkness - no lighting': 3},inplace = True)\n",
    "accidents_df.Light_condition.replace({'Darkness - lighting unknown': 4},inplace = True)\n",
    "accidents_df.Light_condition.replace({'Darkness - lights unlit': 5},inplace = True)\n",
    "accidents_df.Light_condition.replace({'Unknown': 6},inplace = True)\n",
    "\n",
    "\n",
    "accidents_df = accidents_df.astype({'Light_condition':'int'})"
   ]
  },
  {
   "cell_type": "code",
   "execution_count": 66,
   "id": "8ebe57e3-e3f9-4baa-adbd-4a255ccd2307",
   "metadata": {},
   "outputs": [
    {
     "data": {
      "text/plain": [
       "1    5641\n",
       "2    4122\n",
       "3    3989\n",
       "4    1779\n",
       "5    1368\n",
       "6      10\n",
       "Name: Light_condition, dtype: int64"
      ]
     },
     "execution_count": 66,
     "metadata": {},
     "output_type": "execute_result"
    }
   ],
   "source": [
    "accidents_df.Light_condition.value_counts()"
   ]
  },
  {
   "cell_type": "code",
   "execution_count": null,
   "id": "d6852a26-1e50-4c1f-bd4d-b8df4be03749",
   "metadata": {},
   "outputs": [],
   "source": []
  },
  {
   "cell_type": "code",
   "execution_count": null,
   "id": "3ed4f45c-0af6-4ea9-8252-63a5361adc71",
   "metadata": {},
   "outputs": [],
   "source": []
  },
  {
   "cell_type": "code",
   "execution_count": 67,
   "id": "5847279b-a150-48c5-a4c0-25cc549ae9e1",
   "metadata": {},
   "outputs": [
    {
     "data": {
      "text/plain": [
       "21-30 mph    3628\n",
       "51-60 mph    3211\n",
       "31-40 mph    2381\n",
       "61-70 mph    2253\n",
       "Motorway     2200\n",
       "41-50 mph    1946\n",
       "1-20 mph     1278\n",
       "Unknown        12\n",
       "Name: Speed_limit, dtype: int64"
      ]
     },
     "execution_count": 67,
     "metadata": {},
     "output_type": "execute_result"
    }
   ],
   "source": [
    "accidents_df.Speed_limit.value_counts()"
   ]
  },
  {
   "cell_type": "code",
   "execution_count": 68,
   "id": "c158c714-a903-4706-9394-aa8af93d71d8",
   "metadata": {},
   "outputs": [],
   "source": [
    "accidents_df.Speed_limit.replace({'1-20 mph': 1},inplace = True)\n",
    "accidents_df.Speed_limit.replace({'21-30 mph': 2},inplace = True)\n",
    "accidents_df.Speed_limit.replace({'31-40 mph': 3},inplace = True)\n",
    "accidents_df.Speed_limit.replace({'41-50 mph': 4},inplace = True)\n",
    "accidents_df.Speed_limit.replace({'51-60 mph': 5},inplace = True)\n",
    "accidents_df.Speed_limit.replace({'61-70 mph': 6},inplace = True)\n",
    "accidents_df.Speed_limit.replace({'Motorway': 7},inplace = True)\n",
    "accidents_df.Speed_limit.replace({'Unknown': 8},inplace = True)\n",
    "\n",
    "accidents_df = accidents_df.astype({'Speed_limit':'int'})"
   ]
  },
  {
   "cell_type": "code",
   "execution_count": 69,
   "id": "8d4c8c37-129f-4b4c-a95c-fdfd3a7e0421",
   "metadata": {},
   "outputs": [
    {
     "data": {
      "text/plain": [
       "2    3628\n",
       "5    3211\n",
       "3    2381\n",
       "6    2253\n",
       "7    2200\n",
       "4    1946\n",
       "1    1278\n",
       "8      12\n",
       "Name: Speed_limit, dtype: int64"
      ]
     },
     "execution_count": 69,
     "metadata": {},
     "output_type": "execute_result"
    }
   ],
   "source": [
    "accidents_df.Speed_limit.value_counts()"
   ]
  },
  {
   "cell_type": "code",
   "execution_count": null,
   "id": "2272af5d-1754-47fe-a8d7-98804627c749",
   "metadata": {},
   "outputs": [],
   "source": []
  },
  {
   "cell_type": "code",
   "execution_count": 70,
   "id": "a504179d-c13b-47c7-ab3f-72dd26f942da",
   "metadata": {},
   "outputs": [
    {
     "data": {
      "text/plain": [
       "Fine no high winds       4702\n",
       "Raining no high winds    2922\n",
       "Other                    1718\n",
       "Raining + high winds     1682\n",
       "Unknown                  1606\n",
       "Fine + high winds        1515\n",
       "Fog or mist              1202\n",
       "Snowing no high winds     994\n",
       "Snowing + high winds      568\n",
       "Name: Weather_condition, dtype: int64"
      ]
     },
     "execution_count": 70,
     "metadata": {},
     "output_type": "execute_result"
    }
   ],
   "source": [
    "accidents_df.Weather_condition.value_counts()"
   ]
  },
  {
   "cell_type": "code",
   "execution_count": 71,
   "id": "fb5e375d-d4b9-4df3-87a0-961ea73d0ef3",
   "metadata": {},
   "outputs": [],
   "source": [
    "accidents_df.Weather_condition.replace({'Fine no high winds': 1},inplace = True)\n",
    "accidents_df.Weather_condition.replace({'Raining no high winds': 2},inplace = True)\n",
    "accidents_df.Weather_condition.replace({'Raining + high winds': 3},inplace = True)\n",
    "accidents_df.Weather_condition.replace({'Fine + high winds': 4},inplace = True)\n",
    "accidents_df.Weather_condition.replace({'Fog or mist': 5},inplace = True)\n",
    "accidents_df.Weather_condition.replace({'Snowing no high winds': 6},inplace = True)\n",
    "accidents_df.Weather_condition.replace({'Snowing + high winds': 7},inplace = True)\n",
    "accidents_df.Weather_condition.replace({'Other': 8},inplace = True)\n",
    "accidents_df.Weather_condition.replace({'Unknown': 9},inplace = True)\n",
    "\n",
    "accidents_df = accidents_df.astype({'Weather_condition':'int'})"
   ]
  },
  {
   "cell_type": "code",
   "execution_count": 72,
   "id": "79e59d4a-338c-44f7-961f-48c9f29bec43",
   "metadata": {},
   "outputs": [
    {
     "data": {
      "text/plain": [
       "1    4702\n",
       "2    2922\n",
       "8    1718\n",
       "3    1682\n",
       "9    1606\n",
       "4    1515\n",
       "5    1202\n",
       "6     994\n",
       "7     568\n",
       "Name: Weather_condition, dtype: int64"
      ]
     },
     "execution_count": 72,
     "metadata": {},
     "output_type": "execute_result"
    }
   ],
   "source": [
    "accidents_df.Weather_condition.value_counts()"
   ]
  },
  {
   "cell_type": "code",
   "execution_count": 73,
   "id": "3374eede-f094-4966-b281-3a0a7d6f454d",
   "metadata": {},
   "outputs": [
    {
     "data": {
      "text/plain": [
       "None                                               9192\n",
       "Other object on road                               2562\n",
       "Any animal in carriageway (except ridden horse)    1643\n",
       "Previous accident                                  1330\n",
       "Vehicle load on road                                843\n",
       "Pedestrian in carriageway - not injured             775\n",
       "Unknown                                             564\n",
       "Name: Carriageway_hazards, dtype: int64"
      ]
     },
     "execution_count": 73,
     "metadata": {},
     "output_type": "execute_result"
    }
   ],
   "source": [
    "accidents_df.Carriageway_hazards.value_counts()"
   ]
  },
  {
   "cell_type": "code",
   "execution_count": 74,
   "id": "e451f1d4-5263-49e6-a9b4-9d10bf6d83fa",
   "metadata": {},
   "outputs": [],
   "source": [
    "accidents_df.Carriageway_hazards.replace({'None': 1},inplace = True)\n",
    "accidents_df.Carriageway_hazards.replace({'Other object on road': 2},inplace = True)\n",
    "accidents_df.Carriageway_hazards.replace({'Any animal in carriageway (except ridden horse)': 3},inplace = True)\n",
    "accidents_df.Carriageway_hazards.replace({'Previous accident': 4},inplace = True)\n",
    "accidents_df.Carriageway_hazards.replace({'Vehicle load on road': 5},inplace = True)\n",
    "accidents_df.Carriageway_hazards.replace({'Pedestrian in carriageway - not injured': 6},inplace = True)\n",
    "accidents_df.Carriageway_hazards.replace({'Unknown': 7},inplace = True)\n",
    "\n",
    "\n",
    "accidents_df = accidents_df.astype({'Carriageway_hazards':'int'})"
   ]
  },
  {
   "cell_type": "code",
   "execution_count": 75,
   "id": "f46b394c-fa77-4869-bc93-a4a1bca5d4e5",
   "metadata": {},
   "outputs": [
    {
     "data": {
      "text/plain": [
       "1    9192\n",
       "2    2562\n",
       "3    1643\n",
       "4    1330\n",
       "5     843\n",
       "6     775\n",
       "7     564\n",
       "Name: Carriageway_hazards, dtype: int64"
      ]
     },
     "execution_count": 75,
     "metadata": {},
     "output_type": "execute_result"
    }
   ],
   "source": [
    "accidents_df.Carriageway_hazards.value_counts()"
   ]
  },
  {
   "cell_type": "code",
   "execution_count": 76,
   "id": "fec55f4b-eb94-4b9a-b7fb-fe2fff2cbd44",
   "metadata": {},
   "outputs": [],
   "source": [
    "accidents_df.drop(['Adjusted serious','Adjusted slight'], axis = 1, inplace = True)"
   ]
  },
  {
   "cell_type": "code",
   "execution_count": 77,
   "id": "9c5ecbcd-1341-40ad-bc44-80db7cbb1d9a",
   "metadata": {},
   "outputs": [
    {
     "name": "stdout",
     "output_type": "stream",
     "text": [
      "<class 'pandas.core.frame.DataFrame'>\n",
      "Int64Index: 16909 entries, 0 to 16908\n",
      "Data columns (total 7 columns):\n",
      " #   Column               Non-Null Count  Dtype\n",
      "---  ------               --------------  -----\n",
      " 0   Year                 16909 non-null  int64\n",
      " 1   Severity             16909 non-null  int32\n",
      " 2   Speed_limit          16909 non-null  int32\n",
      " 3   Light_condition      16909 non-null  int32\n",
      " 4   Weather_condition    16909 non-null  int32\n",
      " 5   Carriageway_hazards  16909 non-null  int32\n",
      " 6   Accidents            16909 non-null  int64\n",
      "dtypes: int32(5), int64(2)\n",
      "memory usage: 726.6 KB\n"
     ]
    }
   ],
   "source": [
    "accidents_df.info()"
   ]
  },
  {
   "cell_type": "code",
   "execution_count": 78,
   "id": "d0082d39-a8d9-4c50-aa09-cc2278051812",
   "metadata": {},
   "outputs": [
    {
     "data": {
      "text/html": [
       "<div>\n",
       "<style scoped>\n",
       "    .dataframe tbody tr th:only-of-type {\n",
       "        vertical-align: middle;\n",
       "    }\n",
       "\n",
       "    .dataframe tbody tr th {\n",
       "        vertical-align: top;\n",
       "    }\n",
       "\n",
       "    .dataframe thead th {\n",
       "        text-align: right;\n",
       "    }\n",
       "</style>\n",
       "<table border=\"1\" class=\"dataframe\">\n",
       "  <thead>\n",
       "    <tr style=\"text-align: right;\">\n",
       "      <th></th>\n",
       "      <th>Year</th>\n",
       "      <th>Severity</th>\n",
       "      <th>Speed_limit</th>\n",
       "      <th>Light_condition</th>\n",
       "      <th>Weather_condition</th>\n",
       "      <th>Carriageway_hazards</th>\n",
       "      <th>Accidents</th>\n",
       "    </tr>\n",
       "  </thead>\n",
       "  <tbody>\n",
       "    <tr>\n",
       "      <th>0</th>\n",
       "      <td>2005</td>\n",
       "      <td>3</td>\n",
       "      <td>1</td>\n",
       "      <td>1</td>\n",
       "      <td>1</td>\n",
       "      <td>1</td>\n",
       "      <td>5</td>\n",
       "    </tr>\n",
       "    <tr>\n",
       "      <th>1</th>\n",
       "      <td>2005</td>\n",
       "      <td>3</td>\n",
       "      <td>1</td>\n",
       "      <td>1</td>\n",
       "      <td>8</td>\n",
       "      <td>1</td>\n",
       "      <td>1</td>\n",
       "    </tr>\n",
       "    <tr>\n",
       "      <th>2</th>\n",
       "      <td>2005</td>\n",
       "      <td>3</td>\n",
       "      <td>1</td>\n",
       "      <td>2</td>\n",
       "      <td>1</td>\n",
       "      <td>1</td>\n",
       "      <td>2</td>\n",
       "    </tr>\n",
       "    <tr>\n",
       "      <th>3</th>\n",
       "      <td>2005</td>\n",
       "      <td>3</td>\n",
       "      <td>2</td>\n",
       "      <td>1</td>\n",
       "      <td>9</td>\n",
       "      <td>1</td>\n",
       "      <td>8</td>\n",
       "    </tr>\n",
       "    <tr>\n",
       "      <th>4</th>\n",
       "      <td>2005</td>\n",
       "      <td>3</td>\n",
       "      <td>2</td>\n",
       "      <td>1</td>\n",
       "      <td>1</td>\n",
       "      <td>1</td>\n",
       "      <td>473</td>\n",
       "    </tr>\n",
       "    <tr>\n",
       "      <th>...</th>\n",
       "      <td>...</td>\n",
       "      <td>...</td>\n",
       "      <td>...</td>\n",
       "      <td>...</td>\n",
       "      <td>...</td>\n",
       "      <td>...</td>\n",
       "      <td>...</td>\n",
       "    </tr>\n",
       "    <tr>\n",
       "      <th>16904</th>\n",
       "      <td>2020</td>\n",
       "      <td>1</td>\n",
       "      <td>7</td>\n",
       "      <td>4</td>\n",
       "      <td>1</td>\n",
       "      <td>2</td>\n",
       "      <td>1</td>\n",
       "    </tr>\n",
       "    <tr>\n",
       "      <th>16905</th>\n",
       "      <td>2020</td>\n",
       "      <td>1</td>\n",
       "      <td>7</td>\n",
       "      <td>4</td>\n",
       "      <td>2</td>\n",
       "      <td>1</td>\n",
       "      <td>10</td>\n",
       "    </tr>\n",
       "    <tr>\n",
       "      <th>16906</th>\n",
       "      <td>2020</td>\n",
       "      <td>1</td>\n",
       "      <td>7</td>\n",
       "      <td>4</td>\n",
       "      <td>3</td>\n",
       "      <td>1</td>\n",
       "      <td>3</td>\n",
       "    </tr>\n",
       "    <tr>\n",
       "      <th>16907</th>\n",
       "      <td>2020</td>\n",
       "      <td>1</td>\n",
       "      <td>7</td>\n",
       "      <td>4</td>\n",
       "      <td>5</td>\n",
       "      <td>1</td>\n",
       "      <td>1</td>\n",
       "    </tr>\n",
       "    <tr>\n",
       "      <th>16908</th>\n",
       "      <td>2020</td>\n",
       "      <td>1</td>\n",
       "      <td>7</td>\n",
       "      <td>4</td>\n",
       "      <td>8</td>\n",
       "      <td>1</td>\n",
       "      <td>2</td>\n",
       "    </tr>\n",
       "  </tbody>\n",
       "</table>\n",
       "<p>16909 rows × 7 columns</p>\n",
       "</div>"
      ],
      "text/plain": [
       "       Year  Severity  Speed_limit  Light_condition  Weather_condition  \\\n",
       "0      2005         3            1                1                  1   \n",
       "1      2005         3            1                1                  8   \n",
       "2      2005         3            1                2                  1   \n",
       "3      2005         3            2                1                  9   \n",
       "4      2005         3            2                1                  1   \n",
       "...     ...       ...          ...              ...                ...   \n",
       "16904  2020         1            7                4                  1   \n",
       "16905  2020         1            7                4                  2   \n",
       "16906  2020         1            7                4                  3   \n",
       "16907  2020         1            7                4                  5   \n",
       "16908  2020         1            7                4                  8   \n",
       "\n",
       "       Carriageway_hazards  Accidents  \n",
       "0                        1          5  \n",
       "1                        1          1  \n",
       "2                        1          2  \n",
       "3                        1          8  \n",
       "4                        1        473  \n",
       "...                    ...        ...  \n",
       "16904                    2          1  \n",
       "16905                    1         10  \n",
       "16906                    1          3  \n",
       "16907                    1          1  \n",
       "16908                    1          2  \n",
       "\n",
       "[16909 rows x 7 columns]"
      ]
     },
     "execution_count": 78,
     "metadata": {},
     "output_type": "execute_result"
    }
   ],
   "source": [
    "accidents_df"
   ]
  },
  {
   "cell_type": "code",
   "execution_count": 105,
   "id": "e3f3f4de-342e-4fd2-8f84-554618b2f416",
   "metadata": {},
   "outputs": [],
   "source": [
    "x = accidents_df.iloc[:,2:6]\n",
    "y =  accidents_df.iloc[:,-1]\n"
   ]
  },
  {
   "cell_type": "code",
   "execution_count": 84,
   "id": "56647b57-3059-4a52-834a-8679d0a9e5bd",
   "metadata": {},
   "outputs": [],
   "source": [
    "from sklearn.model_selection import train_test_split"
   ]
  },
  {
   "cell_type": "code",
   "execution_count": 85,
   "id": "a426b3b9-0dd4-4d81-a237-14b4b310b618",
   "metadata": {},
   "outputs": [],
   "source": [
    "x_train, x_test, y_train, y_test = train_test_split(x,y,test_size=0.2, random_state = 42) "
   ]
  },
  {
   "cell_type": "code",
   "execution_count": 86,
   "id": "b3aca970-a0b1-4d9d-819c-1f6739848e94",
   "metadata": {},
   "outputs": [
    {
     "data": {
      "image/png": "[encoded data removed]",
      "text/plain": [
       "<Figure size 432x288 with 1 Axes>"
      ]
     },
     "metadata": {
      "needs_background": "light"
     },
     "output_type": "display_data"
    }
   ],
   "source": [
    "reg = LinearRegression()\n",
    "reg.fit(x_train, y_train)\n",
    "y_pred = reg.predict(x_test)\n",
    "\n",
    "plt.scatter(y_test, y_pred)\n",
    "plt.xlabel('Count')\n",
    "plt.ylabel('Predicted Count')\n",
    "plt.show()"
   ]
  },
  {
   "cell_type": "code",
   "execution_count": 87,
   "id": "58da9416-1516-439c-80ec-7f566b96aaff",
   "metadata": {},
   "outputs": [],
   "source": [
    "import sklearn.metrics as metrics"
   ]
  },
  {
   "cell_type": "code",
   "execution_count": 88,
   "id": "2e10114a-c098-4fcf-887f-1d073a3fe1da",
   "metadata": {},
   "outputs": [
    {
     "data": {
      "text/plain": [
       "5162465.991061102"
      ]
     },
     "execution_count": 88,
     "metadata": {},
     "output_type": "execute_result"
    }
   ],
   "source": [
    "mse = metrics.mean_squared_error(y_test, y_pred)\n",
    "mse"
   ]
  },
  {
   "cell_type": "code",
   "execution_count": 98,
   "id": "70b693fb-e9b5-43bd-9212-58900a8271c1",
   "metadata": {},
   "outputs": [
    {
     "data": {
      "text/plain": [
       "4163525.5716751884"
      ]
     },
     "execution_count": 98,
     "metadata": {},
     "output_type": "execute_result"
    }
   ],
   "source": [
    "new_x= accidents_df.iloc[:,2:6]\n",
    "new_y = accidents_df.iloc[:,-1]\n",
    "new_x_train, new_x_test, new_y_train, new_y_test = train_test_split(new_x, new_y, test_size=0.3, random_state = 42)\n",
    "new_reg = LinearRegression()\n",
    "new_reg.fit(new_x_train, new_y_train)\n",
    "new_y_pred = new_reg.predict(new_x_test)\n",
    "new_mse = metrics.mean_squared_error(new_y_test, new_y_pred)\n",
    "new_mse"
   ]
  },
  {
   "cell_type": "code",
   "execution_count": null,
   "id": "ac4a4f5a-91de-457c-a1d6-77d5479e935b",
   "metadata": {},
   "outputs": [],
   "source": [
    "#LASSO REGRESSION"
   ]
  },
  {
   "cell_type": "code",
   "execution_count": 99,
   "id": "8dcb2ac2-0df7-47c4-910e-6ad2c85ae981",
   "metadata": {},
   "outputs": [],
   "source": [
    "from sklearn.model_selection import cross_val_score\n",
    "reg = LinearRegression()"
   ]
  },
  {
   "cell_type": "code",
   "execution_count": 100,
   "id": "52b55c2c-0993-4493-a452-a0439e764287",
   "metadata": {},
   "outputs": [
    {
     "data": {
      "text/plain": [
       "array([0.01771267, 0.01962325, 0.02108304, 0.01688667, 0.00737256])"
      ]
     },
     "execution_count": 100,
     "metadata": {},
     "output_type": "execute_result"
    }
   ],
   "source": [
    "cv_scores = cross_val_score(reg, x, y, cv=5)\n",
    "cv_scores"
   ]
  },
  {
   "cell_type": "code",
   "execution_count": 101,
   "id": "c17de97e-456d-4007-946b-a93bf835b9d9",
   "metadata": {},
   "outputs": [
    {
     "data": {
      "text/plain": [
       "0.01653564003927317"
      ]
     },
     "execution_count": 101,
     "metadata": {},
     "output_type": "execute_result"
    }
   ],
   "source": [
    "np.mean(cv_scores)"
   ]
  },
  {
   "cell_type": "code",
   "execution_count": 102,
   "id": "5e8d5cba-8942-4c20-b466-87ad21b0a443",
   "metadata": {},
   "outputs": [
    {
     "name": "stdout",
     "output_type": "stream",
     "text": [
      "[-46.71711282 -96.33741752 -47.29309763 -77.94629287]\n"
     ]
    }
   ],
   "source": [
    "from sklearn.linear_model import Lasso\n",
    "lasso = Lasso(alpha=0.1, normalize=True)\n",
    "lasso.fit(x,y)\n",
    "lasso_coeff = lasso.coef_\n",
    "\n",
    "print( lasso_coeff)"
   ]
  },
  {
   "cell_type": "code",
   "execution_count": null,
   "id": "5d598e1a-198a-4e36-a141-d40b188a9970",
   "metadata": {},
   "outputs": [],
   "source": []
  },
  {
   "cell_type": "code",
   "execution_count": null,
   "id": "edf94d50-aabd-4a2f-9a32-64ef1498ac4a",
   "metadata": {},
   "outputs": [],
   "source": []
  },
  {
   "cell_type": "code",
   "execution_count": null,
   "id": "30d026d3-f63b-4e21-aadd-da41b46af24d",
   "metadata": {},
   "outputs": [],
   "source": []
  },
  {
   "cell_type": "code",
   "execution_count": null,
   "id": "1f82d9d5-fe60-469b-ac33-930eee0ce8a1",
   "metadata": {},
   "outputs": [],
   "source": []
  },
  {
   "cell_type": "code",
   "execution_count": null,
   "id": "07992582-c4d1-4a9f-810c-fb07739efd2f",
   "metadata": {},
   "outputs": [],
   "source": []
  },
  {
   "cell_type": "code",
   "execution_count": null,
   "id": "95b96d55-e3cb-4f24-b471-8a0a229176ee",
   "metadata": {},
   "outputs": [],
   "source": []
  },
  {
   "cell_type": "code",
   "execution_count": null,
   "id": "97ec654a-ee94-4448-aec3-82dbf7c0e670",
   "metadata": {},
   "outputs": [],
   "source": []
  },
  {
   "cell_type": "code",
   "execution_count": null,
   "id": "29c2ce68-051c-4a38-96fb-0464ae9654d3",
   "metadata": {},
   "outputs": [],
   "source": []
  },
  {
   "cell_type": "code",
   "execution_count": null,
   "id": "97e947db-8cdd-4328-a96f-deb5ee6b5bc3",
   "metadata": {},
   "outputs": [],
   "source": []
  },
  {
   "cell_type": "code",
   "execution_count": null,
   "id": "aeaeb5a6-24a8-4bf7-aac6-68c99039d2ff",
   "metadata": {},
   "outputs": [],
   "source": []
  },
  {
   "cell_type": "code",
   "execution_count": null,
   "id": "b5a77de0-a344-4336-a124-10e98eb0dc29",
   "metadata": {},
   "outputs": [],
   "source": []
  },
  {
   "cell_type": "code",
   "execution_count": null,
   "id": "6d4fb827-c068-45ad-b722-309a5ab34709",
   "metadata": {},
   "outputs": [],
   "source": []
  },
  {
   "cell_type": "code",
   "execution_count": null,
   "id": "a9e02837-f2ad-4dad-a746-c92ff8b3cea1",
   "metadata": {},
   "outputs": [],
   "source": []
  },
  {
   "cell_type": "code",
   "execution_count": null,
   "id": "bd8d6957-afc7-42eb-a15c-9948b5ac2299",
   "metadata": {},
   "outputs": [],
   "source": []
  },
  {
   "cell_type": "code",
   "execution_count": null,
   "id": "9d3e106c-fb06-4c47-ad67-42903bfecd00",
   "metadata": {},
   "outputs": [],
   "source": []
  },
  {
   "cell_type": "code",
   "execution_count": 1,
   "id": "53fc25f9-601d-45a6-9e90-2b264cc4807b",
   "metadata": {},
   "outputs": [],
   "source": [
    "Last_accidents_df = pd.read_csv(r'C:\\Users\\B1674080\\OneDrive - Teesside University\\AI ethics and apps\\AS 2\\SC\\Years2019-2020 Accidents.csv')"
   ]
  },
  {
   "cell_type": "code",
   "execution_count": 2,
   "id": "aa55012b-ccfc-4902-ac44-f095c92b9ce3",
   "metadata": {},
   "outputs": [],
   "source": [
    "Last_accidents_df"
   ]
  },
  {
   "cell_type": "code",
   "execution_count": null,
   "id": "ede526cd-8377-4b32-9aac-a29ef35c35b4",
   "metadata": {},
   "outputs": [],
   "source": [
    "pd.plotting.scatter_matrix(Last_accidents_df,figsize=[15,15])\n",
    "plt.show()"
   ]
  },
  {
   "cell_type": "code",
   "execution_count": 8,
   "id": "6d5241a2-64fe-43c0-84e3-9cfed9b3d2a8",
   "metadata": {},
   "outputs": [
    {
     "data": {
      "image/png": "[encoded data removed]",
      "text/plain": [
       "<Figure size 1080x1080 with 42 Axes>"
      ]
     },
     "metadata": {
      "needs_background": "light"
     },
     "output_type": "display_data"
    }
   ],
   "source": [
    "sb.pairplot(Last_accidents_df)\n",
    "plt.show()"
   ]
  },
  {
   "cell_type": "code",
   "execution_count": null,
   "id": "173dde8b-404a-439d-824b-e5ed616712c3",
   "metadata": {},
   "outputs": [],
   "source": []
  },
  {
   "cell_type": "code",
   "execution_count": 24,
   "id": "b5bff989-a5ac-4338-aa43-ecdd0a98280f",
   "metadata": {},
   "outputs": [],
   "source": [
    "def ECDF(data):\n",
    "    n = len(data)\n",
    "    x =  np.sort(data)\n",
    "    y = np.arange(1,n+1) / n\n",
    "    return x,y"
   ]
  },
  {
   "cell_type": "code",
   "execution_count": 28,
   "id": "693a9451-d6f1-4dd2-bc10-4422f8fa5589",
   "metadata": {},
   "outputs": [
    {
     "data": {
      "text/plain": [
       "array([    1,     1,     1, ..., 60750, 63500, 68171], dtype=int64)"
      ]
     },
     "execution_count": 28,
     "metadata": {},
     "output_type": "execute_result"
    }
   ],
   "source": [
    "x, y = ECDF(accidents_df.Accidents)\n",
    "x"
   ]
  },
  {
   "cell_type": "code",
   "execution_count": null,
   "id": "d25926b0-0f65-4ce5-9f7e-68aac8cbf6fb",
   "metadata": {},
   "outputs": [],
   "source": []
  },
  {
   "cell_type": "code",
   "execution_count": 29,
   "id": "75bff53a-ef8e-4057-87d8-534f448c2120",
   "metadata": {},
   "outputs": [
    {
     "data": {
      "image/png": "[encoded data removed]",
      "text/plain": [
       "<Figure size 792x576 with 1 Axes>"
      ]
     },
     "metadata": {
      "needs_background": "light"
     },
     "output_type": "display_data"
    }
   ],
   "source": [
    "plt.figure(figsize=(11,8))\n",
    "plt.scatter(x,y, s=80)\n",
    "plt.margins(0.05)\n",
    "plt.xlabel('speed limit', fontsize = 15)\n",
    "plt.ylabel('ECDF', fontsize = 15)\n",
    "plt.show()"
   ]
  },
  {
   "cell_type": "code",
   "execution_count": 30,
   "id": "951690e7-543b-4678-8f36-f8489b27e10d",
   "metadata": {},
   "outputs": [
    {
     "data": {
      "text/plain": [
       "<AxesSubplot:xlabel='Accidents'>"
      ]
     },
     "execution_count": 30,
     "metadata": {},
     "output_type": "execute_result"
    },
    {
     "data": {
      "image/png": "[encoded data removed]",
      "text/plain": [
       "<Figure size 1152x576 with 1 Axes>"
      ]
     },
     "metadata": {
      "needs_background": "light"
     },
     "output_type": "display_data"
    }
   ],
   "source": [
    "plt.figure(figsize = (16,8))\n",
    "plt.subplot(2,1,1)\n",
    "import seaborn as sns\n",
    "sns.set_style(\"whitegrid\")\n",
    "sns.boxplot(x = accidents_df.Accidents)"
   ]
  },
  {
   "cell_type": "code",
   "execution_count": 31,
   "id": "cacfcac1-7279-478e-9958-91a282c606cf",
   "metadata": {},
   "outputs": [
    {
     "data": {
      "image/png": "[encoded data removed]",
      "text/plain": [
       "<Figure size 432x288 with 1 Axes>"
      ]
     },
     "metadata": {},
     "output_type": "display_data"
    }
   ],
   "source": [
    "sb.boxplot(x='Accidents', y='Year', data = accidents_df)\n",
    "plt.show()"
   ]
  },
  {
   "cell_type": "code",
   "execution_count": null,
   "id": "34655dea-7312-4696-8ee7-6d06dda7ac56",
   "metadata": {},
   "outputs": [],
   "source": []
  },
  {
   "cell_type": "code",
   "execution_count": 78,
   "id": "0814165b-9a38-4607-a860-6a1d4e609764",
   "metadata": {},
   "outputs": [
    {
     "data": {
      "text/plain": [
       "<AxesSubplot:xlabel='Speed_limit'>"
      ]
     },
     "execution_count": 78,
     "metadata": {},
     "output_type": "execute_result"
    },
    {
     "data": {
      "image/png": "[encoded data removed]",
      "text/plain": [
       "<Figure size 1152x576 with 1 Axes>"
      ]
     },
     "metadata": {},
     "output_type": "display_data"
    }
   ],
   "source": [
    "plt.figure(figsize = (16,8))\n",
    "plt.subplot(2,1,1)\n",
    "import seaborn as sns\n",
    "sns.set_style(\"whitegrid\")\n",
    "sns.boxplot(x = Last_accidents_df.Speed_limit)"
   ]
  },
  {
   "cell_type": "code",
   "execution_count": 79,
   "id": "fdb506cb-c97b-4b16-b76c-0fb203833146",
   "metadata": {},
   "outputs": [
    {
     "data": {
      "text/plain": [
       "<AxesSubplot:xlabel='Light_condition'>"
      ]
     },
     "execution_count": 79,
     "metadata": {},
     "output_type": "execute_result"
    },
    {
     "data": {
      "image/png": "[encoded data removed]",
      "text/plain": [
       "<Figure size 1152x576 with 1 Axes>"
      ]
     },
     "metadata": {},
     "output_type": "display_data"
    }
   ],
   "source": [
    "plt.figure(figsize = (16,8))\n",
    "plt.subplot(2,1,1)\n",
    "import seaborn as sns\n",
    "sns.set_style(\"whitegrid\")\n",
    "sns.boxplot(x = Last_accidents_df.Light_condition)\n"
   ]
  },
  {
   "cell_type": "code",
   "execution_count": 80,
   "id": "724a59cb-1fd3-4e59-9e48-2f2865c0a693",
   "metadata": {},
   "outputs": [
    {
     "data": {
      "text/plain": [
       "<AxesSubplot:xlabel='Weather_condition'>"
      ]
     },
     "execution_count": 80,
     "metadata": {},
     "output_type": "execute_result"
    },
    {
     "data": {
      "image/png": "[encoded data removed]",
      "text/plain": [
       "<Figure size 1152x576 with 1 Axes>"
      ]
     },
     "metadata": {},
     "output_type": "display_data"
    }
   ],
   "source": [
    "plt.figure(figsize = (16,8))\n",
    "plt.subplot(2,1,1)\n",
    "import seaborn as sns\n",
    "sns.set_style(\"whitegrid\")\n",
    "sns.boxplot(x = Last_accidents_df.Weather_condition)"
   ]
  },
  {
   "cell_type": "code",
   "execution_count": 81,
   "id": "2f0039a7-96ec-4355-b12d-8a7b5e442607",
   "metadata": {},
   "outputs": [
    {
     "data": {
      "text/plain": [
       "<AxesSubplot:xlabel='Carriageway_hazards'>"
      ]
     },
     "execution_count": 81,
     "metadata": {},
     "output_type": "execute_result"
    },
    {
     "data": {
      "image/png": "[encoded data removed]",
      "text/plain": [
       "<Figure size 1152x576 with 1 Axes>"
      ]
     },
     "metadata": {},
     "output_type": "display_data"
    }
   ],
   "source": [
    "plt.figure(figsize = (16,8))\n",
    "plt.subplot(2,1,1)\n",
    "import seaborn as sns\n",
    "sns.set_style(\"whitegrid\")\n",
    "sns.boxplot(x = Last_accidents_df.Carriageway_hazards)\n"
   ]
  },
  {
   "cell_type": "code",
   "execution_count": null,
   "id": "f1acde56-0752-488b-9343-d6dd68cd94c2",
   "metadata": {},
   "outputs": [],
   "source": []
  },
  {
   "cell_type": "code",
   "execution_count": null,
   "id": "6b02ce43-78e1-4b9a-891b-5bcc04f5909c",
   "metadata": {},
   "outputs": [],
   "source": []
  },
  {
   "cell_type": "code",
   "execution_count": null,
   "id": "fd737cce-167b-45fe-b465-669f31b98e7c",
   "metadata": {},
   "outputs": [],
   "source": []
  },
  {
   "cell_type": "code",
   "execution_count": null,
   "id": "400ad7a5-f1f4-47c9-aaf4-6b4181c20160",
   "metadata": {},
   "outputs": [],
   "source": []
  },
  {
   "cell_type": "code",
   "execution_count": null,
   "id": "5a672d57-8bcd-4c79-ab05-05778f05eb1e",
   "metadata": {},
   "outputs": [],
   "source": []
  },
  {
   "cell_type": "code",
   "execution_count": null,
   "id": "f92b77e5-5f52-4885-accb-10a741053839",
   "metadata": {},
   "outputs": [],
   "source": []
  },
  {
   "cell_type": "code",
   "execution_count": null,
   "id": "07c66113-050d-4e88-aaf8-e1addc35c426",
   "metadata": {},
   "outputs": [],
   "source": []
  },
  {
   "cell_type": "code",
   "execution_count": null,
   "id": "7688f4b7-874c-4a41-8b15-09fad4a06508",
   "metadata": {},
   "outputs": [],
   "source": []
  },
  {
   "cell_type": "code",
   "execution_count": null,
   "id": "21ed96db-19ce-4c8b-9b50-c4e9f0b091e6",
   "metadata": {},
   "outputs": [],
   "source": []
  },
  {
   "cell_type": "code",
   "execution_count": null,
   "id": "fc126c34-bce0-488e-8b91-69e975b1794c",
   "metadata": {},
   "outputs": [],
   "source": []
  },
  {
   "cell_type": "code",
   "execution_count": null,
   "id": "78a12ad9-744b-4887-810e-43802b158b92",
   "metadata": {},
   "outputs": [],
   "source": []
  },
  {
   "cell_type": "code",
   "execution_count": null,
   "id": "ef626e69-af9f-4457-bfcb-dab94ed8bfc7",
   "metadata": {},
   "outputs": [],
   "source": []
  },
  {
   "cell_type": "code",
   "execution_count": null,
   "id": "19e79593-e47d-430e-8c50-4958a9f35aff",
   "metadata": {},
   "outputs": [],
   "source": []
  },
  {
   "cell_type": "code",
   "execution_count": null,
   "id": "c3ee345a-ca1f-4503-8152-1c8b43c42caf",
   "metadata": {},
   "outputs": [],
   "source": []
  },
  {
   "cell_type": "code",
   "execution_count": null,
   "id": "03971247-d027-40bd-979a-3db4e043bf4c",
   "metadata": {},
   "outputs": [],
   "source": []
  },
  {
   "cell_type": "code",
   "execution_count": null,
   "id": "f1fdd3ab-afa9-4dc1-a8ad-5f9390621627",
   "metadata": {},
   "outputs": [],
   "source": []
  },
  {
   "cell_type": "code",
   "execution_count": null,
   "id": "47084c02-b21c-4580-b570-dabe3f210c70",
   "metadata": {},
   "outputs": [],
   "source": []
  },
  {
   "cell_type": "code",
   "execution_count": null,
   "id": "a03f4d91-b235-4127-8cca-c3e058c4384d",
   "metadata": {},
   "outputs": [],
   "source": []
  },
  {
   "cell_type": "code",
   "execution_count": null,
   "id": "fad2390c-ad22-4369-826a-d022e61360bc",
   "metadata": {},
   "outputs": [],
   "source": []
  },
  {
   "cell_type": "code",
   "execution_count": null,
   "id": "e470ac53-4a95-4989-a3ba-6b0d728752b8",
   "metadata": {},
   "outputs": [],
   "source": [
    "count = accidents_df.iloc[0].Accidents.astype('int')  \n",
    "for ii in range(count):\n",
    "    print(ii)"
   ]
  },
  {
   "cell_type": "code",
   "execution_count": 66,
   "id": "09bca43b-1516-4811-9326-a50c6b41d225",
   "metadata": {},
   "outputs": [
    {
     "data": {
      "text/plain": [
       "2"
      ]
     },
     "execution_count": 66,
     "metadata": {},
     "output_type": "execute_result"
    }
   ],
   "source": [
    "\n",
    "for x in accidents_df.index:\n",
    "    count = accidents_df.iloc[x].Accidents  \n",
    "    for y in count:\n",
    "        \n",
    "\n",
    "count"
   ]
  },
  {
   "cell_type": "code",
   "execution_count": null,
   "id": "25db1b1b-3348-46df-b34e-e7f34f121f50",
   "metadata": {},
   "outputs": [],
   "source": []
  },
  {
   "cell_type": "code",
   "execution_count": null,
   "id": "81b44be3-a586-45b6-9478-b5ff5310c977",
   "metadata": {},
   "outputs": [],
   "source": [
    "Carriageway_array = accidents_df.Carriageway_hazards.value_counts()\n",
    "Index_Array = Carriageway_array.index.to_numpy()\n",
    "Count_array = []\n",
    "Type_array = []\n",
    "for x in Index_Array:\n",
    "    count = accidents_df.loc[accidents_df['Carriageway_hazards'] == x].Accidents.sum()\n",
    "    Count_array.append(count)\n",
    "    Type_array.append(x)\n",
    "\n",
    "My_Carriageway_df = pd.DataFrame({'Carriageway_hazards': Type_array,'Count': Count_array})\n",
    "My_Carriageway_df"
   ]
  },
  {
   "cell_type": "code",
   "execution_count": null,
   "id": "e18d9f08-7f07-4f51-9ceb-52c4d25f383d",
   "metadata": {},
   "outputs": [],
   "source": []
  },
  {
   "cell_type": "code",
   "execution_count": null,
   "id": "9afe1fd0-cca1-43fa-ad41-ae7d6860e38b",
   "metadata": {},
   "outputs": [],
   "source": []
  },
  {
   "cell_type": "code",
   "execution_count": null,
   "id": "377111f0-aa06-43b7-916c-0008cf1690c2",
   "metadata": {},
   "outputs": [],
   "source": []
  },
  {
   "cell_type": "code",
   "execution_count": null,
   "id": "cd847f73-39f0-4e6d-bcc0-0bd3b463ee76",
   "metadata": {},
   "outputs": [],
   "source": []
  },
  {
   "cell_type": "code",
   "execution_count": null,
   "id": "1e8939cc-1a1c-4823-827a-bb72eebfbbac",
   "metadata": {},
   "outputs": [],
   "source": []
  },
  {
   "cell_type": "code",
   "execution_count": null,
   "id": "be619590-9396-4751-aaf5-71edf97f16e5",
   "metadata": {},
   "outputs": [],
   "source": []
  },
  {
   "cell_type": "code",
   "execution_count": null,
   "id": "aabaa788-6a1a-42e8-bf72-d86a348404c8",
   "metadata": {},
   "outputs": [],
   "source": []
  },
  {
   "cell_type": "code",
   "execution_count": null,
   "id": "38ee7446-fca2-4fff-bb48-61228c7441c1",
   "metadata": {},
   "outputs": [],
   "source": []
  },
  {
   "cell_type": "code",
   "execution_count": null,
   "id": "b655458e-ed11-4a92-91d1-9168013c24ef",
   "metadata": {},
   "outputs": [],
   "source": []
  },
  {
   "cell_type": "code",
   "execution_count": null,
   "id": "b20e8987-51dd-4a27-a8b9-fa9048fc4be2",
   "metadata": {},
   "outputs": [],
   "source": []
  },
  {
   "cell_type": "code",
   "execution_count": null,
   "id": "1c99f3af-bf5c-4056-a7c1-8ead3cf4dd8e",
   "metadata": {},
   "outputs": [],
   "source": []
  },
  {
   "cell_type": "code",
   "execution_count": null,
   "id": "5f391f0d-62db-48b3-a3a4-5a9bd9852585",
   "metadata": {},
   "outputs": [],
   "source": []
  },
  {
   "cell_type": "code",
   "execution_count": null,
   "id": "1e6d10e5-9c7f-43cc-bde5-d7c6e30dc921",
   "metadata": {},
   "outputs": [],
   "source": []
  },
  {
   "cell_type": "code",
   "execution_count": null,
   "id": "01244292-1740-4469-9014-d1ab45dcc680",
   "metadata": {},
   "outputs": [],
   "source": []
  },
  {
   "cell_type": "code",
   "execution_count": null,
   "id": "b033250d-2fb7-4739-8c26-76cde9dbe88e",
   "metadata": {},
   "outputs": [],
   "source": []
  },
  {
   "cell_type": "code",
   "execution_count": null,
   "id": "0d5757d5-95ad-43d7-b872-2c4178b3a992",
   "metadata": {},
   "outputs": [],
   "source": []
  },
  {
   "cell_type": "code",
   "execution_count": null,
   "id": "bcba500c-7dc8-4a23-966b-41f56c90f159",
   "metadata": {},
   "outputs": [],
   "source": []
  },
  {
   "cell_type": "code",
   "execution_count": null,
   "id": "aa8328dd-71fb-418c-a578-245fdea915a6",
   "metadata": {},
   "outputs": [],
   "source": []
  },
  {
   "cell_type": "code",
   "execution_count": null,
   "id": "1b82f5f4-ca2e-4345-9709-70ab92ee595e",
   "metadata": {},
   "outputs": [],
   "source": []
  },
  {
   "cell_type": "code",
   "execution_count": 52,
   "id": "7306a5c5-62a9-4e0f-a7bb-66c429a41a2a",
   "metadata": {},
   "outputs": [
    {
     "data": {
      "image/png": "[encoded data removed]",
      "text/plain": [
       "<Figure size 1080x1080 with 81 Axes>"
      ]
     },
     "metadata": {
      "needs_background": "light"
     },
     "output_type": "display_data"
    }
   ],
   "source": [
    "pd.plotting.scatter_matrix(accidents_df,figsize=[15,15])\n",
    "plt.show()"
   ]
  },
  {
   "cell_type": "code",
   "execution_count": 45,
   "id": "9185b2e2-1ef0-45a8-b402-230e61d5860c",
   "metadata": {},
   "outputs": [],
   "source": [
    "import seaborn as sb"
   ]
  },
  {
   "cell_type": "code",
   "execution_count": 46,
   "id": "6dbafbe9-c56d-491d-8f03-9231a2014bbf",
   "metadata": {},
   "outputs": [
    {
     "data": {
      "text/html": [
       "<div>\n",
       "<style scoped>\n",
       "    .dataframe tbody tr th:only-of-type {\n",
       "        vertical-align: middle;\n",
       "    }\n",
       "\n",
       "    .dataframe tbody tr th {\n",
       "        vertical-align: top;\n",
       "    }\n",
       "\n",
       "    .dataframe thead th {\n",
       "        text-align: right;\n",
       "    }\n",
       "</style>\n",
       "<table border=\"1\" class=\"dataframe\">\n",
       "  <thead>\n",
       "    <tr style=\"text-align: right;\">\n",
       "      <th></th>\n",
       "      <th>Year</th>\n",
       "      <th>Severity</th>\n",
       "      <th>Speed_limit</th>\n",
       "      <th>Light_condition</th>\n",
       "      <th>Weather_condition</th>\n",
       "      <th>Carriageway_hazards</th>\n",
       "      <th>Adjusted serious</th>\n",
       "      <th>Adjusted slight</th>\n",
       "    </tr>\n",
       "  </thead>\n",
       "  <tbody>\n",
       "    <tr>\n",
       "      <th>0</th>\n",
       "      <td>2005</td>\n",
       "      <td>3</td>\n",
       "      <td>1</td>\n",
       "      <td>1</td>\n",
       "      <td>1</td>\n",
       "      <td>1</td>\n",
       "      <td>NaN</td>\n",
       "      <td>NaN</td>\n",
       "    </tr>\n",
       "    <tr>\n",
       "      <th>1</th>\n",
       "      <td>2005</td>\n",
       "      <td>3</td>\n",
       "      <td>1</td>\n",
       "      <td>1</td>\n",
       "      <td>8</td>\n",
       "      <td>1</td>\n",
       "      <td>NaN</td>\n",
       "      <td>NaN</td>\n",
       "    </tr>\n",
       "    <tr>\n",
       "      <th>2</th>\n",
       "      <td>2005</td>\n",
       "      <td>3</td>\n",
       "      <td>1</td>\n",
       "      <td>2</td>\n",
       "      <td>1</td>\n",
       "      <td>1</td>\n",
       "      <td>NaN</td>\n",
       "      <td>NaN</td>\n",
       "    </tr>\n",
       "    <tr>\n",
       "      <th>3</th>\n",
       "      <td>2005</td>\n",
       "      <td>3</td>\n",
       "      <td>2</td>\n",
       "      <td>1</td>\n",
       "      <td>9</td>\n",
       "      <td>1</td>\n",
       "      <td>NaN</td>\n",
       "      <td>NaN</td>\n",
       "    </tr>\n",
       "    <tr>\n",
       "      <th>4</th>\n",
       "      <td>2005</td>\n",
       "      <td>3</td>\n",
       "      <td>2</td>\n",
       "      <td>1</td>\n",
       "      <td>1</td>\n",
       "      <td>1</td>\n",
       "      <td>NaN</td>\n",
       "      <td>NaN</td>\n",
       "    </tr>\n",
       "    <tr>\n",
       "      <th>...</th>\n",
       "      <td>...</td>\n",
       "      <td>...</td>\n",
       "      <td>...</td>\n",
       "      <td>...</td>\n",
       "      <td>...</td>\n",
       "      <td>...</td>\n",
       "      <td>...</td>\n",
       "      <td>...</td>\n",
       "    </tr>\n",
       "    <tr>\n",
       "      <th>16904</th>\n",
       "      <td>2020</td>\n",
       "      <td>1</td>\n",
       "      <td>7</td>\n",
       "      <td>4</td>\n",
       "      <td>1</td>\n",
       "      <td>2</td>\n",
       "      <td>0.012649</td>\n",
       "      <td>0.987351</td>\n",
       "    </tr>\n",
       "    <tr>\n",
       "      <th>16905</th>\n",
       "      <td>2020</td>\n",
       "      <td>1</td>\n",
       "      <td>7</td>\n",
       "      <td>4</td>\n",
       "      <td>2</td>\n",
       "      <td>1</td>\n",
       "      <td>0.021170</td>\n",
       "      <td>9.978830</td>\n",
       "    </tr>\n",
       "    <tr>\n",
       "      <th>16906</th>\n",
       "      <td>2020</td>\n",
       "      <td>1</td>\n",
       "      <td>7</td>\n",
       "      <td>4</td>\n",
       "      <td>3</td>\n",
       "      <td>1</td>\n",
       "      <td>0.003871</td>\n",
       "      <td>2.996129</td>\n",
       "    </tr>\n",
       "    <tr>\n",
       "      <th>16907</th>\n",
       "      <td>2020</td>\n",
       "      <td>1</td>\n",
       "      <td>7</td>\n",
       "      <td>4</td>\n",
       "      <td>5</td>\n",
       "      <td>1</td>\n",
       "      <td>0.012512</td>\n",
       "      <td>0.987488</td>\n",
       "    </tr>\n",
       "    <tr>\n",
       "      <th>16908</th>\n",
       "      <td>2020</td>\n",
       "      <td>1</td>\n",
       "      <td>7</td>\n",
       "      <td>4</td>\n",
       "      <td>8</td>\n",
       "      <td>1</td>\n",
       "      <td>0.009878</td>\n",
       "      <td>1.990122</td>\n",
       "    </tr>\n",
       "  </tbody>\n",
       "</table>\n",
       "<p>16909 rows × 8 columns</p>\n",
       "</div>"
      ],
      "text/plain": [
       "       Year  Severity  Speed_limit  Light_condition  Weather_condition  \\\n",
       "0      2005         3            1                1                  1   \n",
       "1      2005         3            1                1                  8   \n",
       "2      2005         3            1                2                  1   \n",
       "3      2005         3            2                1                  9   \n",
       "4      2005         3            2                1                  1   \n",
       "...     ...       ...          ...              ...                ...   \n",
       "16904  2020         1            7                4                  1   \n",
       "16905  2020         1            7                4                  2   \n",
       "16906  2020         1            7                4                  3   \n",
       "16907  2020         1            7                4                  5   \n",
       "16908  2020         1            7                4                  8   \n",
       "\n",
       "       Carriageway_hazards  Adjusted serious  Adjusted slight  \n",
       "0                        1               NaN              NaN  \n",
       "1                        1               NaN              NaN  \n",
       "2                        1               NaN              NaN  \n",
       "3                        1               NaN              NaN  \n",
       "4                        1               NaN              NaN  \n",
       "...                    ...               ...              ...  \n",
       "16904                    2          0.012649         0.987351  \n",
       "16905                    1          0.021170         9.978830  \n",
       "16906                    1          0.003871         2.996129  \n",
       "16907                    1          0.012512         0.987488  \n",
       "16908                    1          0.009878         1.990122  \n",
       "\n",
       "[16909 rows x 8 columns]"
      ]
     },
     "execution_count": 46,
     "metadata": {},
     "output_type": "execute_result"
    }
   ],
   "source": [
    "Data_df = accidents_df.drop(['Accidents'], axis = 1)\n",
    "Data_df"
   ]
  },
  {
   "cell_type": "code",
   "execution_count": 47,
   "id": "91373534-2f80-4851-9324-d59011d3296f",
   "metadata": {},
   "outputs": [
    {
     "data": {
      "text/html": [
       "<div>\n",
       "<style scoped>\n",
       "    .dataframe tbody tr th:only-of-type {\n",
       "        vertical-align: middle;\n",
       "    }\n",
       "\n",
       "    .dataframe tbody tr th {\n",
       "        vertical-align: top;\n",
       "    }\n",
       "\n",
       "    .dataframe thead th {\n",
       "        text-align: right;\n",
       "    }\n",
       "</style>\n",
       "<table border=\"1\" class=\"dataframe\">\n",
       "  <thead>\n",
       "    <tr style=\"text-align: right;\">\n",
       "      <th></th>\n",
       "      <th>Accidents</th>\n",
       "      <th>Adjusted serious</th>\n",
       "      <th>Adjusted slight</th>\n",
       "    </tr>\n",
       "  </thead>\n",
       "  <tbody>\n",
       "    <tr>\n",
       "      <th>0</th>\n",
       "      <td>5</td>\n",
       "      <td>NaN</td>\n",
       "      <td>NaN</td>\n",
       "    </tr>\n",
       "    <tr>\n",
       "      <th>1</th>\n",
       "      <td>1</td>\n",
       "      <td>NaN</td>\n",
       "      <td>NaN</td>\n",
       "    </tr>\n",
       "    <tr>\n",
       "      <th>2</th>\n",
       "      <td>2</td>\n",
       "      <td>NaN</td>\n",
       "      <td>NaN</td>\n",
       "    </tr>\n",
       "    <tr>\n",
       "      <th>3</th>\n",
       "      <td>8</td>\n",
       "      <td>NaN</td>\n",
       "      <td>NaN</td>\n",
       "    </tr>\n",
       "    <tr>\n",
       "      <th>4</th>\n",
       "      <td>473</td>\n",
       "      <td>NaN</td>\n",
       "      <td>NaN</td>\n",
       "    </tr>\n",
       "    <tr>\n",
       "      <th>...</th>\n",
       "      <td>...</td>\n",
       "      <td>...</td>\n",
       "      <td>...</td>\n",
       "    </tr>\n",
       "    <tr>\n",
       "      <th>16904</th>\n",
       "      <td>1</td>\n",
       "      <td>0.012649</td>\n",
       "      <td>0.987351</td>\n",
       "    </tr>\n",
       "    <tr>\n",
       "      <th>16905</th>\n",
       "      <td>10</td>\n",
       "      <td>0.021170</td>\n",
       "      <td>9.978830</td>\n",
       "    </tr>\n",
       "    <tr>\n",
       "      <th>16906</th>\n",
       "      <td>3</td>\n",
       "      <td>0.003871</td>\n",
       "      <td>2.996129</td>\n",
       "    </tr>\n",
       "    <tr>\n",
       "      <th>16907</th>\n",
       "      <td>1</td>\n",
       "      <td>0.012512</td>\n",
       "      <td>0.987488</td>\n",
       "    </tr>\n",
       "    <tr>\n",
       "      <th>16908</th>\n",
       "      <td>2</td>\n",
       "      <td>0.009878</td>\n",
       "      <td>1.990122</td>\n",
       "    </tr>\n",
       "  </tbody>\n",
       "</table>\n",
       "<p>16909 rows × 3 columns</p>\n",
       "</div>"
      ],
      "text/plain": [
       "       Accidents  Adjusted serious  Adjusted slight\n",
       "0              5               NaN              NaN\n",
       "1              1               NaN              NaN\n",
       "2              2               NaN              NaN\n",
       "3              8               NaN              NaN\n",
       "4            473               NaN              NaN\n",
       "...          ...               ...              ...\n",
       "16904          1          0.012649         0.987351\n",
       "16905         10          0.021170         9.978830\n",
       "16906          3          0.003871         2.996129\n",
       "16907          1          0.012512         0.987488\n",
       "16908          2          0.009878         1.990122\n",
       "\n",
       "[16909 rows x 3 columns]"
      ]
     },
     "execution_count": 47,
     "metadata": {},
     "output_type": "execute_result"
    }
   ],
   "source": [
    "Target_df = accidents_df.drop(['Year','Severity','Speed_limit','Light_condition','Weather_condition','Carriageway_hazards'], axis = 1)\n",
    "Target_df"
   ]
  },
  {
   "cell_type": "code",
   "execution_count": 48,
   "id": "c09bdcea-7f46-41c1-a5d6-d7e61b6f573f",
   "metadata": {},
   "outputs": [],
   "source": [
    "from sklearn.model_selection import train_test_split\n",
    "from sklearn.neighbors import KNeighborsClassifier"
   ]
  },
  {
   "cell_type": "code",
   "execution_count": 49,
   "id": "5b5c4674-c5c1-443f-a22b-c48e01dbf675",
   "metadata": {},
   "outputs": [],
   "source": [
    "x = accidents_df.iloc[:,:6]\n",
    "y =  accidents_df.iloc[:,-1]"
   ]
  },
  {
   "cell_type": "code",
   "execution_count": null,
   "id": "b66a4b8c-eacd-4256-a107-4016eb065806",
   "metadata": {},
   "outputs": [],
   "source": []
  },
  {
   "cell_type": "code",
   "execution_count": 50,
   "id": "00bf6e39-6f31-4c08-9d62-661988f7b1b5",
   "metadata": {},
   "outputs": [],
   "source": [
    "x_train, x_test, y_train, y_test = train_test_split(x, y, test_size = 0.2, random_state = 42)\n"
   ]
  },
  {
   "cell_type": "code",
   "execution_count": 3,
   "id": "a9435e1c-659b-4684-89e5-50274a854e85",
   "metadata": {},
   "outputs": [],
   "source": [
    "knn = KNeighborsClassifier(n_neighbors=2, metric = 'minkowski', p=2)\n",
    "knn.fit(x_train,y_train)"
   ]
  },
  {
   "cell_type": "code",
   "execution_count": null,
   "id": "8bf31964-8816-4ca9-aa49-b872d6cb744e",
   "metadata": {},
   "outputs": [],
   "source": [
    "y_pre = knn.predict(x_test)\n",
    "y_pre"
   ]
  },
  {
   "cell_type": "code",
   "execution_count": null,
   "id": "5a07c767-6b1a-48d8-9a7f-6de539eae3ae",
   "metadata": {},
   "outputs": [],
   "source": [
    "knn.score(x_train, y_train)"
   ]
  },
  {
   "cell_type": "code",
   "execution_count": null,
   "id": "d83fcf6d-c228-4c4d-9d3f-06d09b173e51",
   "metadata": {},
   "outputs": [],
   "source": []
  },
  {
   "cell_type": "code",
   "execution_count": null,
   "id": "af2af80b-483c-4e9d-b274-1fdedced9be9",
   "metadata": {},
   "outputs": [],
   "source": [
    "from sklearn.tree import DecisionTreeClassifier"
   ]
  },
  {
   "cell_type": "code",
   "execution_count": null,
   "id": "842af217-f54d-4027-88df-bef4644c0510",
   "metadata": {},
   "outputs": [],
   "source": [
    "dtc = DecisionTreeClassifier()\n",
    "dtc.fit(x_train, y_train)\n",
    "Predict_dtc = dtc.predict(x_test)"
   ]
  },
  {
   "cell_type": "code",
   "execution_count": null,
   "id": "b097d7a9-894e-460b-b49b-e4d0309e73ae",
   "metadata": {},
   "outputs": [],
   "source": [
    "from sklearn import metrics\n",
    "metrics.accuracy_score(y_test, Predict_dtc)"
   ]
  },
  {
   "cell_type": "code",
   "execution_count": null,
   "id": "eee735ad-9237-4f54-9a3c-38fa699d803b",
   "metadata": {},
   "outputs": [],
   "source": []
  },
  {
   "cell_type": "code",
   "execution_count": null,
   "id": "e1cacf64-7e23-46ec-9696-7c62d632d8d8",
   "metadata": {},
   "outputs": [],
   "source": []
  },
  {
   "cell_type": "code",
   "execution_count": null,
   "id": "30c6f280-3d83-47a0-ade4-b88ca02dedba",
   "metadata": {},
   "outputs": [],
   "source": [
    "from sklearn.linear_model import LinearRegression"
   ]
  },
  {
   "cell_type": "code",
   "execution_count": null,
   "id": "e610e468-fc8f-49f9-9b03-28f44b906c28",
   "metadata": {},
   "outputs": [],
   "source": [
    "reg = LinearRegression()\n",
    "reg.fit(x_train, y_train)\n",
    "y_pred = reg.predict(x_test)\n",
    "\n",
    "y_pred"
   ]
  },
  {
   "cell_type": "code",
   "execution_count": null,
   "id": "0537e5dd-7eaa-44c1-82b9-7c483d282bb1",
   "metadata": {},
   "outputs": [],
   "source": [
    "plt.scatter(y_test, y_pred)\n",
    "plt.xlabel('Accidents')\n",
    "plt.ylabel('predictAccidents')\n",
    "plt.show()"
   ]
  },
  {
   "cell_type": "code",
   "execution_count": null,
   "id": "db3861dc-293a-4067-a323-e7ee7b369794",
   "metadata": {},
   "outputs": [],
   "source": [
    "mse = metrics.mean_squared_error(y_test, y_pred)\n",
    "mse"
   ]
  },
  {
   "cell_type": "code",
   "execution_count": null,
   "id": "2fd25a86-c908-40b4-bdae-2f570672538f",
   "metadata": {},
   "outputs": [],
   "source": [
    "from sklearn.model_selection import cross_val_score\n",
    "\n",
    "reg = LinearRegression()"
   ]
  },
  {
   "cell_type": "code",
   "execution_count": null,
   "id": "07922a93-e32d-458b-a85d-0633f1d1ac2c",
   "metadata": {},
   "outputs": [],
   "source": []
  }
 ],
 "metadata": {
  "kernelspec": {
   "display_name": "Python 3 (ipykernel)",
   "language": "python",
   "name": "python3"
  },
  "language_info": {
   "codemirror_mode": {
    "name": "ipython",
    "version": 3
   },
   "file_extension": ".py",
   "mimetype": "text/x-python",
   "name": "python",
   "nbconvert_exporter": "python",
   "pygments_lexer": "ipython3",
   "version": "3.9.7"
  }
 },
 "nbformat": 4,
 "nbformat_minor": 5
}
